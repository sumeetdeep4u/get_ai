{
 "cells": [
  {
   "cell_type": "code",
   "execution_count": 8,
   "id": "aafc85fc",
   "metadata": {},
   "outputs": [
    {
     "name": "stdout",
     "output_type": "stream",
     "text": [
      "Hello, World!\n"
     ]
    }
   ],
   "source": [
    "### Python Example\n",
    "print(\"Hello, World!\")"
   ]
  },
  {
   "cell_type": "code",
   "execution_count": 9,
   "id": "60aa1291",
   "metadata": {},
   "outputs": [
    {
     "name": "stdout",
     "output_type": "stream",
     "text": [
      "30.0\n"
     ]
    }
   ],
   "source": [
    "num1 = float(input(\"Enter the first number: \"))\n",
    "num2 = float(input(\"Enter the second number: \"))\n",
    "operation = input(\"Enter operation (+, -, *, /): \")\n",
    "if operation == \"+\":\n",
    "    result = num1 + num2\n",
    "    print(result)\n",
    "elif operation == \"-\":\n",
    "    result = num1 - num2\n",
    "    print(result)\n",
    "elif operation == \"*\":\n",
    "    result = num1 * num2\n",
    "    print(result)\n",
    "elif operation == \"/\":\n",
    "    if num2 != 0:\n",
    "        result = num1 / num2\n",
    "        print(result)\n",
    "    else:\n",
    "        print(\"Cannot divide by zero.\")\n",
    "else:\n",
    "    print(\"Invalid operation.\")\n"
   ]
  },
  {
   "cell_type": "code",
   "execution_count": 16,
   "id": "fcc84cfe",
   "metadata": {},
   "outputs": [
    {
     "name": "stdout",
     "output_type": "stream",
     "text": [
      "1\n",
      "3\n",
      "5\n",
      "7\n",
      "9\n"
     ]
    }
   ],
   "source": [
    "for i in range(1, 10, 2):\n",
    "    print(i)"
   ]
  },
  {
   "cell_type": "code",
   "execution_count": 17,
   "id": "ce62831f",
   "metadata": {},
   "outputs": [
    {
     "name": "stdout",
     "output_type": "stream",
     "text": [
      "0\n"
     ]
    }
   ],
   "source": [
    "count = 0\n",
    "while count % 2 == 0:\n",
    "    print(count)\n",
    "    count += 1\n"
   ]
  },
  {
   "cell_type": "code",
   "execution_count": 18,
   "id": "c5bef9c4",
   "metadata": {},
   "outputs": [
    {
     "name": "stdout",
     "output_type": "stream",
     "text": [
      "1\n",
      "3\n",
      "5\n",
      "7\n",
      "9\n"
     ]
    }
   ],
   "source": [
    "for i in range(10):\n",
    "    if i % 2 == 0:\n",
    "        continue\n",
    "    print(i)\n"
   ]
  },
  {
   "cell_type": "code",
   "execution_count": 19,
   "id": "717bc934",
   "metadata": {},
   "outputs": [
    {
     "name": "stdout",
     "output_type": "stream",
     "text": [
      "The number is 0\n",
      "The number is 1\n",
      "The number is 2\n",
      "The number is 3\n",
      "The number is 4\n"
     ]
    }
   ],
   "source": [
    "for i in range(5):\n",
    "    if i == 3:\n",
    "        pass\n",
    "    print(f\"The number is {i}\")\n"
   ]
  },
  {
   "cell_type": "code",
   "execution_count": 21,
   "id": "3414d544",
   "metadata": {},
   "outputs": [
    {
     "name": "stdout",
     "output_type": "stream",
     "text": [
      "2\n",
      "3\n",
      "5\n",
      "7\n",
      "11\n",
      "13\n",
      "17\n",
      "19\n",
      "23\n",
      "29\n",
      "31\n",
      "37\n",
      "41\n",
      "43\n",
      "47\n",
      "53\n",
      "59\n",
      "61\n",
      "67\n",
      "71\n",
      "73\n",
      "79\n",
      "83\n",
      "89\n",
      "97\n"
     ]
    }
   ],
   "source": [
    "for num in range(1, 101):\n",
    "    if num > 1:\n",
    "        for i in range(2, num):\n",
    "            if num % i == 0:\n",
    "                break\n",
    "        else:\n",
    "            print(num)\n"
   ]
  },
  {
   "cell_type": "code",
   "execution_count": null,
   "id": "6c780805",
   "metadata": {},
   "outputs": [],
   "source": []
  },
  {
   "cell_type": "code",
   "execution_count": 22,
   "id": "6392c1ba",
   "metadata": {},
   "outputs": [
    {
     "name": "stdout",
     "output_type": "stream",
     "text": [
      "apple\n"
     ]
    }
   ],
   "source": [
    "fruits = ['apple', 'banana', 'cherry', 'kiwi', 'guava']\n",
    "print(fruits[0])  # Output: apple\n"
   ]
  },
  {
   "cell_type": "code",
   "execution_count": 23,
   "id": "d90c97b6",
   "metadata": {},
   "outputs": [
    {
     "name": "stdout",
     "output_type": "stream",
     "text": [
      "['banana', 'cherry', 'kiwi', 'guava']\n",
      "['banana', 'cherry']\n"
     ]
    }
   ],
   "source": [
    "print(fruits[1:])  # Output: ['banana', 'cherry', 'kiwi', 'guava']\n",
    "print(fruits[1:3])  # Output: ['banana', 'cherry']\n"
   ]
  },
  {
   "cell_type": "code",
   "execution_count": 24,
   "id": "815bbdaf",
   "metadata": {},
   "outputs": [
    {
     "name": "stdout",
     "output_type": "stream",
     "text": [
      "['apple', 'watermelon', 'cherry', 'kiwi', 'guava']\n"
     ]
    }
   ],
   "source": [
    "fruits[1] = 'watermelon'\n",
    "print(fruits)  # Output: ['apple', 'watermelon', 'cherry', 'kiwi', 'guava']\n"
   ]
  },
  {
   "cell_type": "code",
   "execution_count": 32,
   "id": "8141ea2f",
   "metadata": {},
   "outputs": [
    {
     "name": "stdout",
     "output_type": "stream",
     "text": [
      "[]\n"
     ]
    }
   ],
   "source": [
    "fruits = ['apple', 'banana', 'cherry', 'kiwi', 'guava']\n",
    "\n",
    "fruits.append('orange')  # Adds 'orange' to the end\n",
    "fruits.insert(1, 'watermelon')  # Inserts 'watermelon' at index 1\n",
    "fruits.remove('banana')  # Removes the first occurrence of 'banana'\n",
    "popped_fruit = fruits.pop()  # Removes and returns the last item\n",
    "index = fruits.index('cherry')  # Returns the index of 'cherry'\n",
    "count = fruits.count('banana')  # Counts occurrences of 'banana'\n",
    "fruits.sort()  # Sorts the list in ascending order\n",
    "fruits.reverse()  # Reverses the list\n",
    "fruits.clear()  # Removes all items from the list\n",
    "print(fruits)  # Output: []"
   ]
  },
  {
   "cell_type": "code",
   "execution_count": 35,
   "id": "f4c55261",
   "metadata": {},
   "outputs": [
    {
     "name": "stdout",
     "output_type": "stream",
     "text": [
      "[3, 4, 5]\n",
      "[6, 7, 8, 9, 10]\n",
      "[1, 3, 5, 7, 9]\n",
      "[10, 9, 8, 7, 6, 5, 4, 3, 2, 1]\n",
      "10\n",
      "[8, 9, 10]\n"
     ]
    }
   ],
   "source": [
    "numbers = [1,2,3,4,5,6,7,8,9,10]\n",
    "print(numbers[2:5])  # Output: [3, 4, 5]\n",
    "print(numbers[5:])   # Output: [6, 7, 8, 9, 10]\n",
    "print(numbers[::2])  # Output: [1, 3, 5, 7, 9]\n",
    "print(numbers[::-1]) # Output: [10, 9, 8, 7, 6, 5, 4, 3, 2, 1]\n",
    "print(numbers[-1])  # Output: 10\n",
    "print(numbers[-3:]) # Output: [8, 9, 10]"
   ]
  },
  {
   "cell_type": "code",
   "execution_count": 36,
   "id": "1ab31036",
   "metadata": {},
   "outputs": [
    {
     "name": "stdout",
     "output_type": "stream",
     "text": [
      "1\n",
      "2\n",
      "3\n",
      "4\n",
      "5\n",
      "6\n",
      "7\n",
      "8\n",
      "9\n",
      "10\n"
     ]
    }
   ],
   "source": [
    "for number in numbers:\n",
    "    print(number)\n"
   ]
  },
  {
   "cell_type": "code",
   "execution_count": 37,
   "id": "29249d8d",
   "metadata": {},
   "outputs": [
    {
     "name": "stdout",
     "output_type": "stream",
     "text": [
      "0 1\n",
      "1 2\n",
      "2 3\n",
      "3 4\n",
      "4 5\n",
      "5 6\n",
      "6 7\n",
      "7 8\n",
      "8 9\n",
      "9 10\n"
     ]
    }
   ],
   "source": [
    "for index, number in enumerate(numbers):\n",
    "    print(index, number)\n"
   ]
  },
  {
   "cell_type": "code",
   "execution_count": 38,
   "id": "7b2afceb",
   "metadata": {},
   "outputs": [
    {
     "name": "stdout",
     "output_type": "stream",
     "text": [
      "[0, 1, 4, 9, 16, 25, 36, 49, 64, 81]\n"
     ]
    }
   ],
   "source": [
    "squares = [x**2 for x in range(10)]\n",
    "print(squares)  # Output: [0, 1, 4, 9, 16, 25, 36, 49, 64, 81]\n"
   ]
  },
  {
   "cell_type": "code",
   "execution_count": 39,
   "id": "1b545d89",
   "metadata": {},
   "outputs": [
    {
     "name": "stdout",
     "output_type": "stream",
     "text": [
      "[0, 2, 4, 6, 8]\n"
     ]
    }
   ],
   "source": [
    "even_numbers = [num for num in range(10) if num % 2 == 0]\n",
    "print(even_numbers)  # Output: [0, 2, 4, 6, 8]\n"
   ]
  },
  {
   "cell_type": "code",
   "execution_count": 40,
   "id": "f139eab2",
   "metadata": {},
   "outputs": [
    {
     "name": "stdout",
     "output_type": "stream",
     "text": [
      "[(1, 'a'), (1, 'b'), (1, 'c'), (1, 'd'), (2, 'a'), (2, 'b'), (2, 'c'), (2, 'd'), (3, 'a'), (3, 'b'), (3, 'c'), (3, 'd'), (4, 'a'), (4, 'b'), (4, 'c'), (4, 'd')]\n"
     ]
    }
   ],
   "source": [
    "list1 = [1, 2, 3, 4]\n",
    "list2 = ['a', 'b', 'c', 'd']\n",
    "pairs = [(i, j) for i in list1 for j in list2]\n",
    "print(pairs)\n"
   ]
  },
  {
   "cell_type": "code",
   "execution_count": 41,
   "id": "bf414758",
   "metadata": {},
   "outputs": [
    {
     "name": "stdout",
     "output_type": "stream",
     "text": [
      "[5, 5, 6, 4, 13]\n"
     ]
    }
   ],
   "source": [
    "words = ['hello', 'world', 'Python', 'list', 'comprehension']\n",
    "lengths = [len(word) for word in words]\n",
    "print(lengths)  # Output: [5, 5, 6, 4, 13]\n"
   ]
  },
  {
   "cell_type": "code",
   "execution_count": 4,
   "id": "81c55dc4",
   "metadata": {},
   "outputs": [
    {
     "name": "stdout",
     "output_type": "stream",
     "text": [
      "()\n",
      "<class 'tuple'>\n"
     ]
    }
   ],
   "source": [
    "## Tuplses\n",
    "empty_tuple = ()\n",
    "print(empty_tuple)\n",
    "print(type(empty_tuple))\n"
   ]
  },
  {
   "cell_type": "code",
   "execution_count": 5,
   "id": "b9c7f9b3",
   "metadata": {},
   "outputs": [
    {
     "name": "stdout",
     "output_type": "stream",
     "text": [
      "<class 'list'>\n",
      "<class 'tuple'>\n"
     ]
    }
   ],
   "source": [
    "empty_list = list()\n",
    "empty_tuple = tuple()\n",
    "print(type(empty_list))\n",
    "print(type(empty_tuple))\n"
   ]
  },
  {
   "cell_type": "code",
   "execution_count": 6,
   "id": "798badcf",
   "metadata": {},
   "outputs": [
    {
     "name": "stdout",
     "output_type": "stream",
     "text": [
      "(1, 'hello', 3.14, True)\n"
     ]
    }
   ],
   "source": [
    "mixed_tuple = (1, \"hello\", 3.14, True)\n",
    "print(mixed_tuple)\n"
   ]
  },
  {
   "cell_type": "code",
   "execution_count": 7,
   "id": "dea8148f",
   "metadata": {},
   "outputs": [
    {
     "name": "stdout",
     "output_type": "stream",
     "text": [
      "1\n",
      "6\n",
      "(1, 2, 3, 4)\n",
      "(6, 5, 4, 3, 2, 1)\n"
     ]
    }
   ],
   "source": [
    "numbers = (1, 2, 3, 4, 5, 6)\n",
    "print(numbers[0])  # First element\n",
    "print(numbers[-1]) # Last element\n",
    "print(numbers[0:4]) # Slicing from index 0 to 3\n",
    "print(numbers[::-1]) # Reversed tuple\n"
   ]
  },
  {
   "cell_type": "code",
   "execution_count": 8,
   "id": "9922f793",
   "metadata": {},
   "outputs": [
    {
     "name": "stdout",
     "output_type": "stream",
     "text": [
      "(1, 2, 3, 4, 5, 6, 1, 'hello', 3.14, True)\n",
      "(1, 'hello', 3.14, True, 1, 'hello', 3.14, True, 1, 'hello', 3.14, True)\n",
      "(1, 2, 3, 4, 5, 6, 1, 2, 3, 4, 5, 6, 1, 2, 3, 4, 5, 6)\n"
     ]
    }
   ],
   "source": [
    "concatenation_tuple = numbers + mixed_tuple\n",
    "print(concatenation_tuple)\n",
    "repeated_tuple = mixed_tuple * 3\n",
    "print(repeated_tuple)\n",
    "repeated_numbers = numbers * 3\n",
    "print(repeated_numbers)\n"
   ]
  },
  {
   "cell_type": "code",
   "execution_count": 9,
   "id": "5c62a5a2",
   "metadata": {},
   "outputs": [
    {
     "name": "stdout",
     "output_type": "stream",
     "text": [
      "['Krish', 2, 3, 4, 5]\n"
     ]
    },
    {
     "ename": "TypeError",
     "evalue": "'tuple' object does not support item assignment",
     "output_type": "error",
     "traceback": [
      "\u001b[31m---------------------------------------------------------------------------\u001b[39m",
      "\u001b[31mTypeError\u001b[39m                                 Traceback (most recent call last)",
      "\u001b[36mCell\u001b[39m\u001b[36m \u001b[39m\u001b[32mIn[9]\u001b[39m\u001b[32m, line 5\u001b[39m\n\u001b[32m      3\u001b[39m \u001b[38;5;28mprint\u001b[39m(my_list)\n\u001b[32m      4\u001b[39m numbers = (\u001b[32m1\u001b[39m, \u001b[32m2\u001b[39m, \u001b[32m3\u001b[39m, \u001b[32m4\u001b[39m, \u001b[32m5\u001b[39m, \u001b[32m6\u001b[39m)\n\u001b[32m----> \u001b[39m\u001b[32m5\u001b[39m \u001b[43mnumbers\u001b[49m\u001b[43m[\u001b[49m\u001b[32;43m1\u001b[39;49m\u001b[43m]\u001b[49m = \u001b[33m\"\u001b[39m\u001b[33mKrish\u001b[39m\u001b[33m\"\u001b[39m  \u001b[38;5;66;03m# This will raise an error\u001b[39;00m\n",
      "\u001b[31mTypeError\u001b[39m: 'tuple' object does not support item assignment"
     ]
    }
   ],
   "source": [
    "my_list = [1, 2, 3, 4, 5]\n",
    "my_list[0] = \"Krish\"\n",
    "print(my_list)\n",
    "numbers = (1, 2, 3, 4, 5, 6)\n",
    "numbers[1] = \"Krish\"  # This will raise an error\n"
   ]
  },
  {
   "cell_type": "code",
   "execution_count": 10,
   "id": "4bfe5f3f",
   "metadata": {},
   "outputs": [
    {
     "name": "stdout",
     "output_type": "stream",
     "text": [
      "1\n",
      "2\n"
     ]
    }
   ],
   "source": [
    "numbers = (1, 2, 3, 4, 5, 6)\n",
    "print(numbers.count(1))  # Counts how many times 1 appears\n",
    "print(numbers.index(3))  # Returns the index of the first occurrence of 3\n"
   ]
  },
  {
   "cell_type": "code",
   "execution_count": 14,
   "id": "36d4373a",
   "metadata": {},
   "outputs": [
    {
     "name": "stdout",
     "output_type": "stream",
     "text": [
      "1\n",
      "hello\n",
      "3.14\n"
     ]
    }
   ],
   "source": [
    "packed_tuple = (1, \"hello\", 3.14)\n",
    "a, b, c = packed_tuple\n",
    "print(a)\n",
    "print(b)\n",
    "print(c)\n"
   ]
  },
  {
   "cell_type": "code",
   "execution_count": 15,
   "id": "ca4e7200",
   "metadata": {},
   "outputs": [
    {
     "name": "stdout",
     "output_type": "stream",
     "text": [
      "1\n",
      "[2, 3, 4, 5]\n",
      "6\n"
     ]
    }
   ],
   "source": [
    "numbers = (1, 2, 3, 4, 5, 6)\n",
    "first, *middle, last = numbers\n",
    "print(first)\n",
    "print(middle)\n",
    "print(last)\n"
   ]
  },
  {
   "cell_type": "code",
   "execution_count": 16,
   "id": "03299013",
   "metadata": {},
   "outputs": [
    {
     "name": "stdout",
     "output_type": "stream",
     "text": [
      "(1, 2, 3)\n",
      "c\n",
      "False\n"
     ]
    }
   ],
   "source": [
    "nested_tuple = ((1, 2, 3), (\"a\", \"b\", \"c\"), (True, False))\n",
    "print(nested_tuple[0])  # (1, 2, 3)\n",
    "print(nested_tuple[1][2])  # 'c'\n",
    "print(nested_tuple[2][1])  # False"
   ]
  },
  {
   "cell_type": "code",
   "execution_count": 19,
   "id": "f867753a",
   "metadata": {},
   "outputs": [
    {
     "name": "stdout",
     "output_type": "stream",
     "text": [
      "1 2 3 \n",
      "a b c \n",
      "True False \n"
     ]
    }
   ],
   "source": [
    "for sub_tuple in nested_tuple:\n",
    "    for item in sub_tuple:\n",
    "        print(item, end=\" \")\n",
    "    print()\n"
   ]
  },
  {
   "cell_type": "code",
   "execution_count": 34,
   "id": "be66875c",
   "metadata": {},
   "outputs": [
    {
     "name": "stdout",
     "output_type": "stream",
     "text": [
      "(0, 5)\n"
     ]
    }
   ],
   "source": [
    "my_tuple = tuple(x for x in range(10) if x % 5 == 0)\n",
    "print(my_tuple)"
   ]
  },
  {
   "cell_type": "code",
   "execution_count": 35,
   "id": "c6b944d6",
   "metadata": {},
   "outputs": [],
   "source": [
    "## Dictionaries"
   ]
  },
  {
   "cell_type": "code",
   "execution_count": 39,
   "id": "324cc4e8",
   "metadata": {},
   "outputs": [
    {
     "name": "stdout",
     "output_type": "stream",
     "text": [
      "Krish\n",
      "32\n",
      "Unknown\n"
     ]
    }
   ],
   "source": [
    "student = {\n",
    "    'name': 'Krish',\n",
    "    'age': 32,\n",
    "    'grade': 24\n",
    "}\n",
    "print(student['name'])  # Output: Krish\n",
    "print(student.get('age'))  # Output: 32\n",
    "print(student.get('address', 'Unknown'))  # Output: Unknown\n"
   ]
  },
  {
   "cell_type": "code",
   "execution_count": 40,
   "id": "82c251c2",
   "metadata": {},
   "outputs": [
    {
     "name": "stdout",
     "output_type": "stream",
     "text": [
      "{'name': 24, 'age': 32}\n"
     ]
    }
   ],
   "source": [
    "## Key Uniqueness in Dictionaries\n",
    "student = {\n",
    "    'name': 'Krish',\n",
    "    'age': 32,\n",
    "    'name': 24\n",
    "}\n",
    "print(student)\n"
   ]
  },
  {
   "cell_type": "code",
   "execution_count": 43,
   "id": "21d94521",
   "metadata": {},
   "outputs": [
    {
     "name": "stdout",
     "output_type": "stream",
     "text": [
      "24\n",
      "32\n",
      "----------\n",
      "24\n",
      "None\n",
      "not available\n"
     ]
    }
   ],
   "source": [
    "print(student['name'])\n",
    "print(student['age'])\n",
    "print(\"----------\")\n",
    "print(student.get('name'))\n",
    "print(student.get('last_name'))\n",
    "print(student.get('last_name', 'not available'))\n"
   ]
  },
  {
   "cell_type": "code",
   "execution_count": 51,
   "id": "b57f7a73",
   "metadata": {},
   "outputs": [
    {
     "name": "stdout",
     "output_type": "stream",
     "text": [
      "{'age': 33, 'address': 'India', 'name': 'Sumit'}\n",
      "{'age': 33, 'address': 'India'}\n",
      "not available\n",
      "{'age': 33, 'address': 'India', 'name': 'Sumit'}\n"
     ]
    }
   ],
   "source": [
    "student['age'] = 33\n",
    "student['address'] = 'India'\n",
    "print(student)\n",
    "\n",
    "del student['name']\n",
    "print(student)\n",
    "print(student.get('name', 'not available'))\n",
    "student['name'] = 'Sumit'\n",
    "print(student)\n"
   ]
  },
  {
   "cell_type": "code",
   "execution_count": 52,
   "id": "bdcab25b",
   "metadata": {},
   "outputs": [
    {
     "name": "stdout",
     "output_type": "stream",
     "text": [
      "dict_keys(['age', 'address', 'name'])\n",
      "dict_values([33, 'India', 'Sumit'])\n",
      "dict_items([('age', 33), ('address', 'India'), ('name', 'Sumit')])\n"
     ]
    }
   ],
   "source": [
    "keys = student.keys()\n",
    "print(keys)\n",
    "values = student.values()\n",
    "print(values)\n",
    "items = student.items()\n",
    "print(items)\n"
   ]
  },
  {
   "cell_type": "code",
   "execution_count": 53,
   "id": "9124cbfb",
   "metadata": {},
   "outputs": [],
   "source": [
    "## Shallow Copy of Dictionaries"
   ]
  },
  {
   "cell_type": "code",
   "execution_count": 55,
   "id": "7c73f2c5",
   "metadata": {},
   "outputs": [
    {
     "name": "stdout",
     "output_type": "stream",
     "text": [
      "Original student dictionary: {'age': 33, 'address': 'India', 'name': 'Krish1'}\n",
      "Shallow copy of student dictionary: {'age': 33, 'address': 'India', 'name': 'Krish1'}\n",
      "Original student dictionary after change: {'age': 33, 'address': 'India', 'name': 'Krish3'}\n",
      "Shallow copy of student dictionary after change: {'age': 33, 'address': 'India', 'name': 'Krish1'}\n"
     ]
    }
   ],
   "source": [
    "student_copy = student\n",
    "student['name'] = 'Krish1'\n",
    "print(\"Original student dictionary:\", student)\n",
    "print(\"Shallow copy of student dictionary:\", student_copy)\n",
    "\n",
    "student_copy1 = student.copy()\n",
    "student['name'] = 'Krish3'\n",
    "print(\"Original student dictionary after change:\", student)\n",
    "print(\"Shallow copy of student dictionary after change:\", student_copy1)\n"
   ]
  },
  {
   "cell_type": "code",
   "execution_count": 56,
   "id": "4bb8eebb",
   "metadata": {},
   "outputs": [
    {
     "name": "stdout",
     "output_type": "stream",
     "text": [
      "age\n",
      "address\n",
      "name\n",
      "33\n",
      "India\n",
      "Krish3\n",
      "age: 33\n",
      "address: India\n",
      "name: Krish3\n"
     ]
    }
   ],
   "source": [
    "for key in student.keys():\n",
    "    print(key)\n",
    "for value in student.values():\n",
    "    print(value)\n",
    "for key, value in student.items():\n",
    "    print(f'{key}: {value}')\n"
   ]
  },
  {
   "cell_type": "code",
   "execution_count": 58,
   "id": "286fcf2f",
   "metadata": {},
   "outputs": [
    {
     "name": "stdout",
     "output_type": "stream",
     "text": [
      "{'student1': {'name': 'Krish', 'age': 32}, 'student2': {'name': 'Peter', 'age': 35}}\n",
      "35\n",
      "Peter\n"
     ]
    }
   ],
   "source": [
    "students = {\n",
    "    'student1': {'name': 'Krish', 'age': 32},\n",
    "    'student2': {'name': 'Peter', 'age': 35}\n",
    "}\n",
    "print(students)\n",
    "\n",
    "print(students['student2']['age'])\n",
    "print(students['student2']['name'])\n",
    "\n"
   ]
  },
  {
   "cell_type": "code",
   "execution_count": 62,
   "id": "1df1da41",
   "metadata": {},
   "outputs": [
    {
     "name": "stdout",
     "output_type": "stream",
     "text": [
      "student1: {'name': 'Krish', 'age': 32}\n",
      "name: Krish\n",
      "age: 32\n",
      "student2: {'name': 'Peter', 'age': 35}\n",
      "name: Peter\n",
      "age: 35\n"
     ]
    }
   ],
   "source": [
    "for student_id, student_info in students.items():\n",
    "    print(f'{student_id}: {student_info}')\n",
    "    for key, value in student_info.items():\n",
    "        print(f'{key}: {value}')\n"
   ]
  },
  {
   "cell_type": "code",
   "execution_count": 67,
   "id": "e9f36160",
   "metadata": {},
   "outputs": [
    {
     "name": "stdout",
     "output_type": "stream",
     "text": [
      "{0: 0, 1: 1, 2: 4, 3: 9, 4: 16}\n",
      "{0: 0, 2: 4, 4: 16, 6: 36, 8: 64}\n"
     ]
    }
   ],
   "source": [
    "squares = {x: x**2 for x in range(5)}\n",
    "print(squares)\n",
    "\n",
    "even_squares = {x: x**2 for x in range(10) if x % 2 == 0}\n",
    "print(even_squares)\n"
   ]
  },
  {
   "cell_type": "code",
   "execution_count": 68,
   "id": "e20d0622",
   "metadata": {},
   "outputs": [
    {
     "name": "stdout",
     "output_type": "stream",
     "text": [
      "{1: 1, 2: 2, 3: 3, 4: 4}\n"
     ]
    }
   ],
   "source": [
    "numbers = [1, 2, 2, 3, 3, 3, 4, 4, 4, 4]\n",
    "frequency = {}\n",
    "for number in numbers:\n",
    "    if number in frequency:\n",
    "        frequency[number] += 1\n",
    "    else:\n",
    "        frequency[number] = 1\n",
    "print(frequency)\n"
   ]
  },
  {
   "cell_type": "code",
   "execution_count": 71,
   "id": "dd0996fa",
   "metadata": {},
   "outputs": [
    {
     "name": "stdout",
     "output_type": "stream",
     "text": [
      "{'a': 1, 'b': 3, 'c': 4}\n"
     ]
    }
   ],
   "source": [
    "dict1 = {'a': 1, 'b': 2}\n",
    "dict2 = {'b': 3, 'c': 4}\n",
    "merged_dict = {**dict1, **dict2}\n",
    "print(merged_dict)\n"
   ]
  },
  {
   "cell_type": "code",
   "execution_count": 73,
   "id": "0412f982",
   "metadata": {},
   "outputs": [
    {
     "name": "stdout",
     "output_type": "stream",
     "text": [
      "['buy groceries', 'clean the house', 'pay bills', 'schedule meeting', 'go for a run']\n",
      "['buy groceries', 'pay bills', 'schedule meeting', 'go for a run']\n"
     ]
    }
   ],
   "source": [
    "to_do_list = ['buy groceries', 'clean the house', 'pay bills']\n",
    "to_do_list.append('schedule meeting')\n",
    "to_do_list.append('go for a run')\n",
    "print(to_do_list)\n",
    "\n",
    "to_do_list.remove('clean the house')\n",
    "print(to_do_list)\n"
   ]
  },
  {
   "cell_type": "code",
   "execution_count": 74,
   "id": "d7b74fb1",
   "metadata": {},
   "outputs": [
    {
     "name": "stdout",
     "output_type": "stream",
     "text": [
      "Hey, don't forget to pay the utility bills.\n",
      "Tasks remaining in the to-do list:\n",
      "- buy groceries\n",
      "- pay bills\n",
      "- schedule meeting\n",
      "- go for a run\n"
     ]
    }
   ],
   "source": [
    "if 'pay bills' in to_do_list:\n",
    "    print(\"Hey, don't forget to pay the utility bills.\")\n",
    "print('Tasks remaining in the to-do list:')\n",
    "for task in to_do_list:\n",
    "    print(f'- {task}')\n"
   ]
  },
  {
   "cell_type": "code",
   "execution_count": 75,
   "id": "ad11b108",
   "metadata": {},
   "outputs": [
    {
     "name": "stdout",
     "output_type": "stream",
     "text": [
      "Average Grade: 88.0\n",
      "Highest Grade: 95\n",
      "Lowest Grade: 78\n"
     ]
    }
   ],
   "source": [
    "grades = [85, 92, 78, 90, 88]\n",
    "grades.append(95)\n",
    "average_grade = sum(grades) / len(grades)\n",
    "highest_grade = max(grades)\n",
    "lowest_grade = min(grades)\n",
    "print(f'Average Grade: {average_grade}')\n",
    "print(f'Highest Grade: {highest_grade}')\n",
    "print(f'Lowest Grade: {lowest_grade}')\n"
   ]
  },
  {
   "cell_type": "code",
   "execution_count": 76,
   "id": "a582bb92",
   "metadata": {},
   "outputs": [
    {
     "name": "stdout",
     "output_type": "stream",
     "text": [
      "Oranges are in stock.\n",
      "Current inventory:\n",
      "- apples\n",
      "- oranges\n",
      "- grapes\n",
      "- strawberries\n"
     ]
    }
   ],
   "source": [
    "inventory = ['apples', 'bananas', 'oranges', 'grapes']\n",
    "inventory.append('strawberries')\n",
    "inventory.remove('bananas')\n",
    "item = 'oranges'\n",
    "if item in inventory:\n",
    "    print(f'{item.capitalize()} are in stock.')\n",
    "else:\n",
    "    print(f'{item.capitalize()} are out of stock.')\n",
    "print('Current inventory:')\n",
    "for product in inventory:\n",
    "    print(f'- {product}')\n"
   ]
  },
  {
   "cell_type": "code",
   "execution_count": 77,
   "id": "1824f7ba",
   "metadata": {},
   "outputs": [
    {
     "name": "stdout",
     "output_type": "stream",
     "text": [
      "Positive feedback count: 2\n",
      "User feedback comments:\n",
      "- Great service.\n",
      "- Very satisfied.\n",
      "- Could be better.\n",
      "- Excellent service.\n",
      "- Not happy with the service.\n"
     ]
    }
   ],
   "source": [
    "feedbacks = [\n",
    "    'Great service.',\n",
    "    'Very satisfied.',\n",
    "    'Could be better.',\n",
    "    'Excellent service.',\n",
    "    'Not happy with the service.'\n",
    "]\n",
    "positive_feedback_count = sum(1 for comment in feedbacks if 'great' in comment.lower() or 'excellent' in comment.lower())\n",
    "print(f'Positive feedback count: {positive_feedback_count}')\n",
    "print('User feedback comments:')\n",
    "for comment in feedbacks:\n",
    "    print(f'- {comment}')\n",
    "\n"
   ]
  },
  {
   "cell_type": "code",
   "execution_count": 78,
   "id": "f38b6b65",
   "metadata": {},
   "outputs": [],
   "source": [
    "## Password Strength Checker\n"
   ]
  },
  {
   "cell_type": "code",
   "execution_count": 79,
   "id": "8aba789d",
   "metadata": {},
   "outputs": [
    {
     "name": "stdout",
     "output_type": "stream",
     "text": [
      "False\n",
      "True\n"
     ]
    }
   ],
   "source": [
    "def is_strong_password(password):\n",
    "    \"\"\"\n",
    "    Checks if the password is strong or not.\n",
    "    \"\"\"\n",
    "    if len(password) < 8:\n",
    "        return False\n",
    "    if not any(char.isdigit() for char in password):\n",
    "        return False\n",
    "    if not any(char.islower() for char in password):\n",
    "        return False\n",
    "    if not any(char.isupper() for char in password):\n",
    "        return False\n",
    "    special_characters = \"!@#$%^&*()-+?_=,<>/\"\n",
    "    if not any(char in special_characters for char in password):\n",
    "        return False\n",
    "    return True\n",
    "\n",
    "\n",
    "# Test the function\n",
    "print(is_strong_password('AbcVpassword'))\n",
    "print(is_strong_password('str0ngPwd!'))\n"
   ]
  },
  {
   "cell_type": "code",
   "execution_count": 80,
   "id": "fa898e84",
   "metadata": {},
   "outputs": [
    {
     "name": "stdout",
     "output_type": "stream",
     "text": [
      "5.8999999999999995\n"
     ]
    }
   ],
   "source": [
    "cart = [\n",
    "    {'name': 'Apple', 'price': 0.5, 'quantity': 4},\n",
    "    {'name': 'Banana', 'price': 0.3, 'quantity': 6},\n",
    "    {'name': 'Orange', 'price': 0.7, 'quantity': 3}\n",
    "]\n",
    "\n",
    "\n",
    "def calculate_total_cost(cart):\n",
    "    total_cost = 0\n",
    "    for item in cart:\n",
    "        total_cost += item['price'] * item['quantity']\n",
    "    return total_cost\n",
    "\n",
    "\n",
    "total_cost = calculate_total_cost(cart)\n",
    "print(total_cost)\n"
   ]
  },
  {
   "cell_type": "code",
   "execution_count": 81,
   "id": "38f4e14c",
   "metadata": {},
   "outputs": [
    {
     "name": "stdout",
     "output_type": "stream",
     "text": [
      "True\n",
      "False\n"
     ]
    }
   ],
   "source": [
    "def is_palindrome(s):\n",
    "    s = s.lower().replace(' ', '')\n",
    "    return s == s[::-1]\n",
    "\n",
    "print(is_palindrome('A man a plan a canal Panama'))\n",
    "print(is_palindrome('hello'))\n"
   ]
  },
  {
   "cell_type": "code",
   "execution_count": 82,
   "id": "dcc2965b",
   "metadata": {},
   "outputs": [
    {
     "name": "stdout",
     "output_type": "stream",
     "text": [
      "120\n",
      "720\n"
     ]
    }
   ],
   "source": [
    "def factorial(n):\n",
    "    if n == 0:\n",
    "        return 1\n",
    "    else:\n",
    "        return n * factorial(n - 1)\n",
    "\n",
    "print(factorial(5))\n",
    "print(factorial(6))\n"
   ]
  },
  {
   "cell_type": "code",
   "execution_count": 93,
   "id": "519a19b9",
   "metadata": {},
   "outputs": [
    {
     "name": "stdout",
     "output_type": "stream",
     "text": [
      "{'the': 3, 'final': 1, 'example': 1, 'demonstrates': 1, 'how': 1, 'to': 1, 'validate': 1, 'an': 1, 'email': 2, 'address': 1, 'using': 1, 'regular': 1, 'expressions': 1, 'function': 1, 'checks': 1, 'if': 1, 'matches': 1, 'a': 1, 'specific': 1, 'pattern': 1}\n"
     ]
    }
   ],
   "source": [
    "def count_word_frequency(file_path):\n",
    "    word_count = {}\n",
    "    with open(file_path, 'r') as file:\n",
    "        for line in file:\n",
    "            words = line.split()\n",
    "            for word in words:\n",
    "                word = word.lower().strip('.,!?:;\"\\'')\n",
    "                word_count[word] = word_count.get(word, 0) + 1\n",
    "    return word_count\n",
    "\n",
    "\n",
    "#file_path = r'C:\\Sumit\\PROJECTS\\GenAI\\sample.txt'  # ✅ Fixed\n",
    "file_path = 'sample.txt' \n",
    "word_frequency = count_word_frequency(file_path)\n",
    "print(word_frequency)\n"
   ]
  },
  {
   "cell_type": "code",
   "execution_count": 89,
   "id": "e0fa6a3a",
   "metadata": {},
   "outputs": [
    {
     "name": "stdout",
     "output_type": "stream",
     "text": [
      "True\n",
      "False\n"
     ]
    }
   ],
   "source": [
    "import re\n",
    "def is_valid_email(email):\n",
    "    pattern = r'^[A-Za-z0-9+_.-]+@[A-Za-z0-9.-]+\\.[A-Za-z]{2,}$'\n",
    "    return re.match(pattern, email) is not None\n",
    "\n",
    "#Examples of email validation:\n",
    "#python Code Sample\n",
    "print(is_valid_email('username@gmail.com'))\n",
    "print(is_valid_email('invalid-email'))\n"
   ]
  },
  {
   "cell_type": "code",
   "execution_count": 94,
   "id": "70097a84",
   "metadata": {},
   "outputs": [],
   "source": [
    "## Lambda Function"
   ]
  },
  {
   "cell_type": "code",
   "execution_count": 99,
   "id": "ed290457",
   "metadata": {},
   "outputs": [
    {
     "data": {
      "text/plain": [
       "function"
      ]
     },
     "execution_count": 99,
     "metadata": {},
     "output_type": "execute_result"
    }
   ],
   "source": [
    "addition = lambda a, b: a + b\n",
    "type(addition)"
   ]
  },
  {
   "cell_type": "code",
   "execution_count": 100,
   "id": "8a8d65d8",
   "metadata": {},
   "outputs": [
    {
     "data": {
      "text/plain": [
       "11"
      ]
     },
     "execution_count": 100,
     "metadata": {},
     "output_type": "execute_result"
    }
   ],
   "source": [
    "addition(5, 6)"
   ]
  },
  {
   "cell_type": "code",
   "execution_count": 101,
   "id": "32622ca8",
   "metadata": {},
   "outputs": [
    {
     "data": {
      "text/plain": [
       "True"
      ]
     },
     "execution_count": 101,
     "metadata": {},
     "output_type": "execute_result"
    }
   ],
   "source": [
    "even1 = lambda num: num % 2 == 0\n",
    "\n",
    "even1(12)\n"
   ]
  },
  {
   "cell_type": "code",
   "execution_count": 102,
   "id": "21711ffe",
   "metadata": {},
   "outputs": [
    {
     "data": {
      "text/plain": [
       "39"
      ]
     },
     "execution_count": 102,
     "metadata": {},
     "output_type": "execute_result"
    }
   ],
   "source": [
    "addition1 = lambda x, y, z: x + y + z\n",
    "\n",
    "addition1(12, 13, 14)\n"
   ]
  },
  {
   "cell_type": "code",
   "execution_count": 3,
   "id": "b01b6257",
   "metadata": {},
   "outputs": [
    {
     "name": "stdout",
     "output_type": "stream",
     "text": [
      "4\n"
     ]
    },
    {
     "data": {
      "text/plain": [
       "[1, 4, 9, 16, 25, 36]"
      ]
     },
     "execution_count": 3,
     "metadata": {},
     "output_type": "execute_result"
    }
   ],
   "source": [
    "## Using Lambda with Map Function\n",
    "\"\"\"\n",
    "Lambda functions can be combined with the map function \n",
    "to apply an operation to all items in a list.\n",
    "\"\"\"\n",
    "\n",
    "#python Code Sample\n",
    "numbers = [1, 2, 3, 4, 5, 6]\n",
    "\n",
    "#python Code Sample\n",
    "def square(num):\n",
    "    return num ** 2\n",
    "\n",
    "#python Code Sample\n",
    "sqr = square(2)\n",
    "print(sqr)\n",
    "\n",
    "#  python Code Sample\n",
    "squared_numbers = list(map(lambda x: x ** 2, numbers))\n",
    "\n",
    "#  python Code Sample\n",
    "squared_numbers\n"
   ]
  },
  {
   "cell_type": "code",
   "execution_count": 4,
   "id": "940b4a74",
   "metadata": {},
   "outputs": [
    {
     "data": {
      "text/plain": [
       "<map at 0x1555bbd9ea0>"
      ]
     },
     "execution_count": 4,
     "metadata": {},
     "output_type": "execute_result"
    }
   ],
   "source": [
    "squared_numbers = map(lambda x: x ** 2, numbers)\n",
    "squared_numbers\n"
   ]
  },
  {
   "cell_type": "code",
   "execution_count": 5,
   "id": "2dec0da4",
   "metadata": {},
   "outputs": [
    {
     "data": {
      "text/plain": [
       "[1, 4, 9, 16, 25, 36]"
      ]
     },
     "execution_count": 5,
     "metadata": {},
     "output_type": "execute_result"
    }
   ],
   "source": [
    "numbers = [1, 2, 3, 4, 5, 6]\n",
    "squared_numbers = map(lambda x: x ** 2, numbers)\n",
    "squared_numbers = list(squared_numbers)\n",
    "squared_numbers\n"
   ]
  },
  {
   "cell_type": "code",
   "execution_count": 6,
   "id": "a863b268",
   "metadata": {},
   "outputs": [
    {
     "data": {
      "text/plain": [
       "[1, 4, 9, 16, 25, 36]"
      ]
     },
     "execution_count": 6,
     "metadata": {},
     "output_type": "execute_result"
    }
   ],
   "source": [
    "squared_numbers = [x*x for x in numbers]\n",
    "squared_numbers"
   ]
  },
  {
   "cell_type": "code",
   "execution_count": 10,
   "id": "eb325ee6",
   "metadata": {},
   "outputs": [
    {
     "name": "stdout",
     "output_type": "stream",
     "text": [
      "Square of 5: 25\n",
      "Squared numbers: [1, 4, 9, 16, 25, 36]\n"
     ]
    }
   ],
   "source": [
    "def squared_numbers(x):\n",
    "    return x*x\n",
    "\n",
    "# Test the function with a single value\n",
    "result = squared_numbers(5)\n",
    "print(f\"Square of 5: {result}\")\n",
    "\n",
    "# Apply the function to all numbers using map\n",
    "squared_list = list(map(squared_numbers, numbers))\n",
    "print(f\"Squared numbers: {squared_list}\")"
   ]
  },
  {
   "cell_type": "code",
   "execution_count": null,
   "id": "1ddb1782",
   "metadata": {},
   "outputs": [],
   "source": []
  },
  {
   "cell_type": "code",
   "execution_count": 11,
   "id": "c6fc1940",
   "metadata": {},
   "outputs": [
    {
     "name": "stdout",
     "output_type": "stream",
     "text": [
      "String to int: [1, 2, 3, 4, 5]\n",
      "Uppercase words: ['HELLO', 'WORLD', 'PYTHON']\n",
      "Word lengths: [5, 5, 6]\n",
      "Sums: [11, 22, 33, 44]\n",
      "Celsius to Fahrenheit: [32.0, 68.0, 86.0, 98.6]\n",
      "Map result: [1, 4, 9, 16, 25]\n",
      "List comprehension result: [1, 4, 9, 16, 25]\n"
     ]
    }
   ],
   "source": [
    "## More Examples of map() Function\n",
    "\n",
    "# Example 1: Convert strings to integers\n",
    "str_numbers = ['1', '2', '3', '4', '5']\n",
    "int_numbers = list(map(int, str_numbers))\n",
    "print(f\"String to int: {int_numbers}\")\n",
    "\n",
    "# Example 2: Convert to uppercase\n",
    "words = ['hello', 'world', 'python']\n",
    "upper_words = list(map(str.upper, words))\n",
    "print(f\"Uppercase words: {upper_words}\")\n",
    "\n",
    "# Example 3: Calculate length of each string\n",
    "word_lengths = list(map(len, words))\n",
    "print(f\"Word lengths: {word_lengths}\")\n",
    "\n",
    "# Example 4: Multiple iterables\n",
    "numbers1 = [1, 2, 3, 4]\n",
    "numbers2 = [10, 20, 30, 40]\n",
    "sums = list(map(lambda x, y: x + y, numbers1, numbers2))\n",
    "print(f\"Sums: {sums}\")\n",
    "\n",
    "# Example 5: Using built-in functions\n",
    "temperatures_celsius = [0, 20, 30, 37]\n",
    "temperatures_fahrenheit = list(map(lambda c: (c * 9/5) + 32, temperatures_celsius))\n",
    "print(f\"Celsius to Fahrenheit: {temperatures_fahrenheit}\")\n",
    "\n",
    "# Comparison: map() vs list comprehension\n",
    "# map() approach\n",
    "squared_with_map = list(map(lambda x: x**2, [1, 2, 3, 4, 5]))\n",
    "# List comprehension approach  \n",
    "squared_with_comprehension = [x**2 for x in [1, 2, 3, 4, 5]]\n",
    "print(f\"Map result: {squared_with_map}\")\n",
    "print(f\"List comprehension result: {squared_with_comprehension}\")"
   ]
  },
  {
   "cell_type": "code",
   "execution_count": 13,
   "id": "9aa20d95",
   "metadata": {},
   "outputs": [
    {
     "name": "stdout",
     "output_type": "stream",
     "text": [
      "[2, 4, 6, 8, 10, 12]\n"
     ]
    }
   ],
   "source": [
    "def is_even(num):\n",
    "    return num % 2 == 0\n",
    "\n",
    "\n",
    "numbers = [1, 2, 3, 4, 5, 6, 7, 8, 9, 10, 11, 12]\n",
    "even_numbers = list(filter(is_even, numbers))\n",
    "print(even_numbers)  # Output: [2, 4, 6, 8, 10, 12]\n"
   ]
  },
  {
   "cell_type": "code",
   "execution_count": null,
   "id": "88420afd",
   "metadata": {},
   "outputs": [],
   "source": []
  },
  {
   "cell_type": "code",
   "execution_count": 14,
   "id": "b91cb4ec",
   "metadata": {},
   "outputs": [
    {
     "name": "stdout",
     "output_type": "stream",
     "text": [
      "=== MAP() vs FILTER() COMPARISON ===\n",
      "\n",
      "Original list: [1, 2, 3, 4, 5, 6, 7, 8, 9, 10]\n",
      "Length: 10\n",
      "\n",
      "1. MAP() - TRANSFORMATION:\n",
      "   Purpose: Transform each element\n",
      "   Output length: Same as input\n",
      "   map(square): [1, 4, 9, 16, 25, 36, 49, 64, 81, 100]\n",
      "   Length: 10\n",
      "   map(str): ['1', '2', '3', '4', '5', '6', '7', '8', '9', '10']\n",
      "   Length: 10\n",
      "\n",
      "2. FILTER() - FILTERING:\n",
      "   Purpose: Keep elements that meet condition\n",
      "   Output length: Same or fewer than input\n",
      "   filter(even): [2, 4, 6, 8, 10]\n",
      "   Length: 5\n",
      "   filter(>5): [6, 7, 8, 9, 10]\n",
      "   Length: 5\n",
      "\n",
      "3. COMBINING MAP() and FILTER():\n",
      "   Filter first, then transform:\n",
      "   Even numbers: [2, 4, 6, 8, 10]\n",
      "   Squared evens: [4, 16, 36, 64, 100]\n",
      "   Combined: [4, 16, 36, 64, 100]\n",
      "\n",
      "4. REAL-WORLD EXAMPLE:\n",
      "   Original students:\n",
      "   {'name': 'Alice', 'grade': 85}\n",
      "   {'name': 'Bob', 'grade': 72}\n",
      "   {'name': 'Charlie', 'grade': 90}\n",
      "   {'name': 'Diana', 'grade': 65}\n",
      "   {'name': 'Eve', 'grade': 88}\n",
      "\n",
      "   Passed students (grade >= 75): 3\n",
      "   {'name': 'Alice', 'grade': 85}\n",
      "   {'name': 'Charlie', 'grade': 90}\n",
      "   {'name': 'Eve', 'grade': 88}\n",
      "\n",
      "   All student names: ['Alice', 'Bob', 'Charlie', 'Diana', 'Eve']\n",
      "\n",
      "   Students with letter grades:\n",
      "   {'name': 'Alice', 'grade': 85, 'letter': 'B'}\n",
      "   {'name': 'Bob', 'grade': 72, 'letter': 'C'}\n",
      "   {'name': 'Charlie', 'grade': 90, 'letter': 'A'}\n",
      "   {'name': 'Diana', 'grade': 65, 'letter': 'D'}\n",
      "   {'name': 'Eve', 'grade': 88, 'letter': 'B'}\n"
     ]
    }
   ],
   "source": [
    "## Comprehensive Comparison: map() vs filter()\n",
    "\n",
    "print(\"=== MAP() vs FILTER() COMPARISON ===\\n\")\n",
    "\n",
    "# Sample data\n",
    "numbers = [1, 2, 3, 4, 5, 6, 7, 8, 9, 10]\n",
    "print(f\"Original list: {numbers}\")\n",
    "print(f\"Length: {len(numbers)}\\n\")\n",
    "\n",
    "# 1. MAP() - Transforms each element\n",
    "print(\"1. MAP() - TRANSFORMATION:\")\n",
    "print(\"   Purpose: Transform each element\")\n",
    "print(\"   Output length: Same as input\")\n",
    "\n",
    "# Transform: square each number\n",
    "squared = list(map(lambda x: x**2, numbers))\n",
    "print(f\"   map(square): {squared}\")\n",
    "print(f\"   Length: {len(squared)}\")\n",
    "\n",
    "# Transform: convert to strings\n",
    "strings = list(map(str, numbers))\n",
    "print(f\"   map(str): {strings}\")\n",
    "print(f\"   Length: {len(strings)}\\n\")\n",
    "\n",
    "# 2. FILTER() - Filters elements based on condition  \n",
    "print(\"2. FILTER() - FILTERING:\")\n",
    "print(\"   Purpose: Keep elements that meet condition\")\n",
    "print(\"   Output length: Same or fewer than input\")\n",
    "\n",
    "# Filter: keep only even numbers\n",
    "evens = list(filter(lambda x: x % 2 == 0, numbers))\n",
    "print(f\"   filter(even): {evens}\")\n",
    "print(f\"   Length: {len(evens)}\")\n",
    "\n",
    "# Filter: keep numbers > 5\n",
    "greater_than_5 = list(filter(lambda x: x > 5, numbers))\n",
    "print(f\"   filter(>5): {greater_than_5}\")\n",
    "print(f\"   Length: {len(greater_than_5)}\\n\")\n",
    "\n",
    "# 3. COMBINING BOTH\n",
    "print(\"3. COMBINING MAP() and FILTER():\")\n",
    "print(\"   Filter first, then transform:\")\n",
    "\n",
    "# Step 1: Filter even numbers, Step 2: Square them\n",
    "even_numbers = list(filter(lambda x: x % 2 == 0, numbers))\n",
    "squared_evens = list(map(lambda x: x**2, even_numbers))\n",
    "print(f\"   Even numbers: {even_numbers}\")\n",
    "print(f\"   Squared evens: {squared_evens}\")\n",
    "\n",
    "# Or in one line:\n",
    "result = list(map(lambda x: x**2, filter(lambda x: x % 2 == 0, numbers)))\n",
    "print(f\"   Combined: {result}\\n\")\n",
    "\n",
    "# 4. REAL-WORLD EXAMPLE\n",
    "print(\"4. REAL-WORLD EXAMPLE:\")\n",
    "students = [\n",
    "    {'name': 'Alice', 'grade': 85},\n",
    "    {'name': 'Bob', 'grade': 72},\n",
    "    {'name': 'Charlie', 'grade': 90},\n",
    "    {'name': 'Diana', 'grade': 65},\n",
    "    {'name': 'Eve', 'grade': 88}\n",
    "]\n",
    "\n",
    "print(\"   Original students:\")\n",
    "for student in students:\n",
    "    print(f\"   {student}\")\n",
    "\n",
    "# Filter: Students who passed (grade >= 75)\n",
    "passed_students = list(filter(lambda s: s['grade'] >= 75, students))\n",
    "print(f\"\\n   Passed students (grade >= 75): {len(passed_students)}\")\n",
    "for student in passed_students:\n",
    "    print(f\"   {student}\")\n",
    "\n",
    "# Map: Extract just the names\n",
    "student_names = list(map(lambda s: s['name'], students))\n",
    "print(f\"\\n   All student names: {student_names}\")\n",
    "\n",
    "# Map: Add letter grades\n",
    "def get_letter_grade(grade):\n",
    "    if grade >= 90: return 'A'\n",
    "    elif grade >= 80: return 'B'\n",
    "    elif grade >= 70: return 'C'\n",
    "    elif grade >= 60: return 'D'\n",
    "    else: return 'F'\n",
    "\n",
    "students_with_letters = list(map(lambda s: {**s, 'letter': get_letter_grade(s['grade'])}, students))\n",
    "print(f\"\\n   Students with letter grades:\")\n",
    "for student in students_with_letters:\n",
    "    print(f\"   {student}\")"
   ]
  },
  {
   "cell_type": "markdown",
   "id": "202bca77",
   "metadata": {},
   "source": [
    "## Quick Reference: map() vs filter()\n",
    "\n",
    "| Aspect | map() | filter() |\n",
    "|--------|-------|----------|\n",
    "| **Purpose** | Transform elements | Filter elements |\n",
    "| **Function return** | Any value | Boolean (True/False) |\n",
    "| **Output size** | Same as input | Same or smaller |\n",
    "| **Use case** | Convert/modify data | Select specific data |\n",
    "| **Example** | `map(lambda x: x*2, [1,2,3])` → `[2,4,6]` | `filter(lambda x: x>2, [1,2,3,4])` → `[3,4]` |\n",
    "\n",
    "### Memory Tip:\n",
    "- **MAP** = **M**odify **A**ll **P**ieces\n",
    "- **FILTER** = **F**ind **I**tems **L**eaving **T**hose **E**ligible **R**emaining"
   ]
  },
  {
   "cell_type": "code",
   "execution_count": 15,
   "id": "f888b5b4",
   "metadata": {},
   "outputs": [
    {
     "name": "stdout",
     "output_type": "stream",
     "text": [
      "[{'name': 'Jack', 'age': 32}, {'name': 'Jill', 'age': 33}]\n"
     ]
    }
   ],
   "source": [
    "people = [\n",
    "    {\"name\": \"Jack\", \"age\": 32},\n",
    "    {\"name\": \"John\", \"age\": 25},\n",
    "    {\"name\": \"Jill\", \"age\": 33}\n",
    "]\n",
    "\n",
    "def age_greater_than_25(person):\n",
    "    return person[\"age\"] > 25\n",
    "\n",
    "filtered_people = list(filter(age_greater_than_25, people))\n",
    "print(filtered_people)  # Output: [{'name': 'Jack', 'age': 32}, {'name': 'Jill', 'age': 33}]"
   ]
  },
  {
   "cell_type": "code",
   "execution_count": 17,
   "id": "494c6047",
   "metadata": {},
   "outputs": [
    {
     "data": {
      "text/plain": [
       "array([1, 2, 3, 4, 5])"
      ]
     },
     "execution_count": 17,
     "metadata": {},
     "output_type": "execute_result"
    }
   ],
   "source": [
    "import numpy as np\n",
    "data = np.array([1, 2, 3, 4, 5])\n",
    "data"
   ]
  },
  {
   "cell_type": "markdown",
   "id": "02ec0973",
   "metadata": {},
   "source": [
    "# NumPy - Numerical Python\n",
    "\n",
    "NumPy is the fundamental package for scientific computing in Python. It provides:\n",
    "- Powerful N-dimensional array object\n",
    "- Broadcasting functions\n",
    "- Tools for integrating C/C++ and Fortran code\n",
    "- Linear algebra, Fourier transform, and random number capabilities"
   ]
  },
  {
   "cell_type": "code",
   "execution_count": 18,
   "id": "ce1e7b25",
   "metadata": {},
   "outputs": [
    {
     "name": "stdout",
     "output_type": "stream",
     "text": [
      "NumPy version: 2.3.3\n",
      "NumPy successfully imported!\n"
     ]
    }
   ],
   "source": [
    "# First, let's install and import NumPy\n",
    "import numpy as np\n",
    "\n",
    "# Check NumPy version\n",
    "print(f\"NumPy version: {np.__version__}\")\n",
    "print(\"NumPy successfully imported!\")"
   ]
  },
  {
   "cell_type": "code",
   "execution_count": 19,
   "id": "91deee4c",
   "metadata": {},
   "outputs": [
    {
     "name": "stdout",
     "output_type": "stream",
     "text": [
      "1D Array from list: [1 2 3 4 5]\n",
      "Type: <class 'numpy.ndarray'>\n",
      "Data type: int64\n",
      "\n",
      "2D Array from nested list:\n",
      "[[1 2 3]\n",
      " [4 5 6]\n",
      " [7 8 9]]\n",
      "Shape: (3, 3)\n",
      "Dimensions: 2\n",
      "\n",
      "Zeros array: [0. 0. 0. 0. 0.]\n",
      "Ones array:\n",
      "[[1. 1. 1.]\n",
      " [1. 1. 1.]\n",
      " [1. 1. 1.]]\n",
      "Array filled with 7:\n",
      "[[7 7 7 7]\n",
      " [7 7 7 7]]\n"
     ]
    }
   ],
   "source": [
    "## Creating NumPy Arrays\n",
    "\n",
    "# 1. From Python lists\n",
    "list_1d = [1, 2, 3, 4, 5]\n",
    "array_1d = np.array(list_1d)\n",
    "print(\"1D Array from list:\", array_1d)\n",
    "print(\"Type:\", type(array_1d))\n",
    "print(\"Data type:\", array_1d.dtype)\n",
    "print()\n",
    "\n",
    "# 2. From nested lists (2D array)\n",
    "list_2d = [[1, 2, 3], [4, 5, 6], [7, 8, 9]]\n",
    "array_2d = np.array(list_2d)\n",
    "print(\"2D Array from nested list:\")\n",
    "print(array_2d)\n",
    "print(\"Shape:\", array_2d.shape)\n",
    "print(\"Dimensions:\", array_2d.ndim)\n",
    "print()\n",
    "\n",
    "# 3. Using built-in functions\n",
    "zeros = np.zeros(5)\n",
    "ones = np.ones((3, 3))\n",
    "full = np.full((2, 4), 7)\n",
    "print(\"Zeros array:\", zeros)\n",
    "print(\"Ones array:\")\n",
    "print(ones)\n",
    "print(\"Array filled with 7:\")\n",
    "print(full)"
   ]
  },
  {
   "cell_type": "code",
   "execution_count": null,
   "id": "59c95806",
   "metadata": {},
   "outputs": [],
   "source": [
    "## Array Generation Functions\n",
    "\n",
    "# Range functions\n",
    "print(\"=== RANGE FUNCTIONS ===\")\n",
    "arange_array = np.arange(10)  # 0 to 9\n",
    "arange_step = np.arange(2, 10, 2)  # 2 to 8, step 2\n",
    "linspace_array = np.linspace(0, 10, 5)  # 5 evenly spaced numbers from 0 to 10\n",
    "\n",
    "print(\"arange(10):\", arange_array)\n",
    "print(\"arange(2, 10, 2):\", arange_step)\n",
    "print(\"linspace(0, 10, 5):\", linspace_array)\n",
    "print()\n",
    "\n",
    "# Random arrays\n",
    "print(\"=== RANDOM ARRAYS ===\")\n",
    "np.random.seed(42)  # For reproducible results\n",
    "random_array = np.random.random((2, 3))  # Random floats between 0 and 1\n",
    "random_int = np.random.randint(1, 10, size=(2, 3))  # Random integers\n",
    "normal_array = np.random.normal(0, 1, (2, 3))  # Normal distribution\n",
    "\n",
    "print(\"Random floats (0-1):\")\n",
    "print(random_array)\n",
    "print(\"Random integers (1-9):\")\n",
    "print(random_int)\n",
    "print(\"Normal distribution (mean=0, std=1):\")\n",
    "print(normal_array)"
   ]
  },
  {
   "cell_type": "code",
   "execution_count": null,
   "id": "83c2fd97",
   "metadata": {},
   "outputs": [],
   "source": [
    "## Array Indexing and Slicing\n",
    "\n",
    "# Create a sample array\n",
    "arr = np.arange(20).reshape(4, 5)\n",
    "print(\"Original array:\")\n",
    "print(arr)\n",
    "print()\n",
    "\n",
    "# Basic indexing\n",
    "print(\"=== BASIC INDEXING ===\")\n",
    "print(\"Element at [0, 0]:\", arr[0, 0])\n",
    "print(\"Element at [2, 3]:\", arr[2, 3])\n",
    "print(\"Last element:\", arr[-1, -1])\n",
    "print()\n",
    "\n",
    "# Slicing\n",
    "print(\"=== SLICING ===\")\n",
    "print(\"First row:\", arr[0, :])\n",
    "print(\"First column:\", arr[:, 0])\n",
    "print(\"First 2 rows, first 3 columns:\")\n",
    "print(arr[:2, :3])\n",
    "print(\"Every other row:\", arr[::2, :])\n",
    "print()\n",
    "\n",
    "# Boolean indexing\n",
    "print(\"=== BOOLEAN INDEXING ===\")\n",
    "mask = arr > 10\n",
    "print(\"Elements > 10:\")\n",
    "print(arr[mask])\n",
    "print(\"Positions where elements > 10:\")\n",
    "print(mask)"
   ]
  },
  {
   "cell_type": "code",
   "execution_count": null,
   "id": "7b32d4d3",
   "metadata": {},
   "outputs": [],
   "source": [
    "## Array Operations and Mathematics\n",
    "\n",
    "# Create sample arrays\n",
    "a = np.array([1, 2, 3, 4, 5])\n",
    "b = np.array([10, 20, 30, 40, 50])\n",
    "\n",
    "print(\"Array a:\", a)\n",
    "print(\"Array b:\", b)\n",
    "print()\n",
    "\n",
    "# Arithmetic operations (element-wise)\n",
    "print(\"=== ARITHMETIC OPERATIONS ===\")\n",
    "print(\"Addition a + b:\", a + b)\n",
    "print(\"Subtraction a - b:\", a - b)\n",
    "print(\"Multiplication a * b:\", a * b)\n",
    "print(\"Division b / a:\", b / a)\n",
    "print(\"Power a ** 2:\", a ** 2)\n",
    "print()\n",
    "\n",
    "# Mathematical functions\n",
    "print(\"=== MATHEMATICAL FUNCTIONS ===\")\n",
    "angles = np.array([0, np.pi/4, np.pi/2, np.pi])\n",
    "print(\"Angles (radians):\", angles)\n",
    "print(\"Sin values:\", np.sin(angles))\n",
    "print(\"Cos values:\", np.cos(angles))\n",
    "print(\"Square root of a:\", np.sqrt(a))\n",
    "print(\"Exponential of a:\", np.exp(a))\n",
    "print(\"Natural log of a:\", np.log(a))\n",
    "print()\n",
    "\n",
    "# Statistical operations\n",
    "data = np.random.normal(10, 2, 100)  # 100 numbers, mean=10, std=2\n",
    "print(\"=== STATISTICAL OPERATIONS ===\")\n",
    "print(\"Data shape:\", data.shape)\n",
    "print(\"Mean:\", np.mean(data))\n",
    "print(\"Median:\", np.median(data))\n",
    "print(\"Standard deviation:\", np.std(data))\n",
    "print(\"Min:\", np.min(data))\n",
    "print(\"Max:\", np.max(data))\n",
    "print(\"Sum:\", np.sum(data))"
   ]
  },
  {
   "cell_type": "code",
   "execution_count": null,
   "id": "7947c619",
   "metadata": {},
   "outputs": [],
   "source": [
    "## Array Reshaping and Manipulation\n",
    "\n",
    "# Create a sample array\n",
    "original = np.arange(12)\n",
    "print(\"Original array:\", original)\n",
    "print(\"Shape:\", original.shape)\n",
    "print()\n",
    "\n",
    "# Reshaping\n",
    "print(\"=== RESHAPING ===\")\n",
    "reshaped_2d = original.reshape(3, 4)\n",
    "print(\"Reshaped to 3x4:\")\n",
    "print(reshaped_2d)\n",
    "\n",
    "reshaped_3d = original.reshape(2, 2, 3)\n",
    "print(\"Reshaped to 2x2x3:\")\n",
    "print(reshaped_3d)\n",
    "print()\n",
    "\n",
    "# Flattening\n",
    "print(\"=== FLATTENING ===\")\n",
    "flattened = reshaped_2d.flatten()\n",
    "print(\"Flattened:\", flattened)\n",
    "ravel = reshaped_2d.ravel()\n",
    "print(\"Ravel:\", ravel)\n",
    "print()\n",
    "\n",
    "# Transpose\n",
    "print(\"=== TRANSPOSE ===\")\n",
    "matrix = np.array([[1, 2, 3], [4, 5, 6]])\n",
    "print(\"Original matrix:\")\n",
    "print(matrix)\n",
    "print(\"Transposed:\")\n",
    "print(matrix.T)\n",
    "print()\n",
    "\n",
    "# Concatenation and splitting\n",
    "print(\"=== CONCATENATION & SPLITTING ===\")\n",
    "arr1 = np.array([1, 2, 3])\n",
    "arr2 = np.array([4, 5, 6])\n",
    "concatenated = np.concatenate([arr1, arr2])\n",
    "print(\"Concatenated:\", concatenated)\n",
    "\n",
    "# Stack arrays\n",
    "stacked_v = np.vstack([arr1, arr2])  # Vertical stack\n",
    "stacked_h = np.hstack([arr1, arr2])  # Horizontal stack\n",
    "print(\"Vertical stack:\")\n",
    "print(stacked_v)\n",
    "print(\"Horizontal stack:\", stacked_h)"
   ]
  },
  {
   "cell_type": "code",
   "execution_count": null,
   "id": "b7f785ff",
   "metadata": {},
   "outputs": [],
   "source": [
    "## Broadcasting - NumPy's Superpower\n",
    "\n",
    "print(\"=== BROADCASTING EXAMPLES ===\")\n",
    "print(\"Broadcasting allows operations between arrays of different shapes\")\n",
    "print()\n",
    "\n",
    "# Example 1: Scalar with array\n",
    "arr = np.array([1, 2, 3, 4, 5])\n",
    "result = arr + 10  # Scalar is broadcasted to all elements\n",
    "print(\"Array + Scalar:\")\n",
    "print(f\"{arr} + 10 = {result}\")\n",
    "print()\n",
    "\n",
    "# Example 2: 1D array with 2D array\n",
    "matrix = np.array([[1, 2, 3], [4, 5, 6], [7, 8, 9]])\n",
    "vector = np.array([10, 20, 30])\n",
    "result = matrix + vector  # Vector is broadcasted to each row\n",
    "print(\"2D Array + 1D Array:\")\n",
    "print(\"Matrix:\")\n",
    "print(matrix)\n",
    "print(\"Vector:\", vector)\n",
    "print(\"Result:\")\n",
    "print(result)\n",
    "print()\n",
    "\n",
    "# Example 3: Column vector with row vector\n",
    "col_vector = np.array([[1], [2], [3]])  # 3x1\n",
    "row_vector = np.array([10, 20])         # 1x2\n",
    "result = col_vector + row_vector        # Results in 3x2\n",
    "print(\"Column vector + Row vector:\")\n",
    "print(\"Column vector:\")\n",
    "print(col_vector)\n",
    "print(\"Row vector:\", row_vector)\n",
    "print(\"Result (3x2):\")\n",
    "print(result)"
   ]
  },
  {
   "cell_type": "code",
   "execution_count": null,
   "id": "86b71ba8",
   "metadata": {},
   "outputs": [],
   "source": [
    "## Real-World NumPy Applications\n",
    "\n",
    "print(\"=== REAL-WORLD EXAMPLES ===\")\n",
    "print()\n",
    "\n",
    "# Example 1: Grade Analysis\n",
    "print(\"1. STUDENT GRADE ANALYSIS\")\n",
    "# Simulating grades for 5 students in 3 subjects\n",
    "grades = np.array([\n",
    "    [85, 92, 78],  # Student 1: Math, Science, English\n",
    "    [90, 88, 85],  # Student 2\n",
    "    [76, 82, 79],  # Student 3\n",
    "    [95, 91, 88],  # Student 4\n",
    "    [82, 79, 83]   # Student 5\n",
    "])\n",
    "\n",
    "print(\"Grades matrix (Students x Subjects):\")\n",
    "print(grades)\n",
    "print(f\"Shape: {grades.shape}\")\n",
    "\n",
    "# Calculate statistics\n",
    "student_averages = np.mean(grades, axis=1)  # Average per student\n",
    "subject_averages = np.mean(grades, axis=0)  # Average per subject\n",
    "overall_average = np.mean(grades)\n",
    "\n",
    "print(f\"Student averages: {student_averages}\")\n",
    "print(f\"Subject averages: {subject_averages}\")\n",
    "print(f\"Overall average: {overall_average:.2f}\")\n",
    "print()\n",
    "\n",
    "# Example 2: Temperature Data Analysis\n",
    "print(\"2. TEMPERATURE DATA ANALYSIS\")\n",
    "# Simulating daily temperatures for a week\n",
    "temperatures = np.array([22.5, 25.1, 23.8, 26.3, 24.7, 21.9, 20.2])\n",
    "days = np.array(['Mon', 'Tue', 'Wed', 'Thu', 'Fri', 'Sat', 'Sun'])\n",
    "\n",
    "print(\"Daily temperatures:\", temperatures)\n",
    "print(\"Hottest day:\", days[np.argmax(temperatures)], f\"({np.max(temperatures)}°C)\")\n",
    "print(\"Coldest day:\", days[np.argmin(temperatures)], f\"({np.min(temperatures)}°C)\")\n",
    "print(\"Days above 23°C:\", days[temperatures > 23])\n",
    "print()\n",
    "\n",
    "# Example 3: Financial Data\n",
    "print(\"3. FINANCIAL PORTFOLIO ANALYSIS\")\n",
    "# Stock prices for 3 stocks over 5 days\n",
    "stock_prices = np.array([\n",
    "    [100, 102, 98, 105, 103],   # Stock A\n",
    "    [50, 52, 49, 54, 51],       # Stock B\n",
    "    [75, 78, 76, 79, 77]        # Stock C\n",
    "])\n",
    "\n",
    "# Calculate daily returns (percentage change)\n",
    "returns = np.diff(stock_prices, axis=1) / stock_prices[:, :-1] * 100\n",
    "print(\"Stock prices:\")\n",
    "print(stock_prices)\n",
    "print(\"Daily returns (%):\")\n",
    "print(returns.round(2))\n",
    "\n",
    "# Portfolio performance (equal weights)\n",
    "weights = np.array([1/3, 1/3, 1/3])\n",
    "portfolio_returns = np.dot(weights, returns)\n",
    "print(\"Portfolio daily returns:\", portfolio_returns.round(2))"
   ]
  },
  {
   "cell_type": "markdown",
   "id": "300de6c7",
   "metadata": {},
   "source": [
    "## NumPy vs Pure Python - Performance Comparison\n",
    "\n",
    "NumPy is significantly faster than pure Python for numerical operations because:\n",
    "- **Vectorized operations**: Operations are performed in C\n",
    "- **No Python loops**: Eliminates Python interpreter overhead\n",
    "- **Memory efficiency**: Contiguous memory layout\n",
    "- **Broadcasting**: Eliminates the need for explicit loops"
   ]
  },
  {
   "cell_type": "code",
   "execution_count": null,
   "id": "38a87a87",
   "metadata": {},
   "outputs": [],
   "source": [
    "## NumPy Best Practices and Tips\n",
    "\n",
    "print(\"=== NUMPY BEST PRACTICES ===\")\n",
    "print()\n",
    "\n",
    "# 1. Use vectorized operations instead of loops\n",
    "print(\"1. VECTORIZATION\")\n",
    "# Bad: Using Python loop\n",
    "def python_sum_squares(arr):\n",
    "    result = []\n",
    "    for x in arr:\n",
    "        result.append(x ** 2)\n",
    "    return result\n",
    "\n",
    "# Good: Using NumPy\n",
    "def numpy_sum_squares(arr):\n",
    "    return arr ** 2\n",
    "\n",
    "data = np.arange(1000)\n",
    "print(\"Vectorized operations are much faster than Python loops\")\n",
    "print()\n",
    "\n",
    "# 2. Use appropriate data types\n",
    "print(\"2. DATA TYPES\")\n",
    "int_array = np.array([1, 2, 3], dtype=np.int32)\n",
    "float_array = np.array([1.0, 2.0, 3.0], dtype=np.float32)\n",
    "print(\"Int32 array:\", int_array, \"- Memory per element:\", int_array.itemsize, \"bytes\")\n",
    "print(\"Float32 array:\", float_array, \"- Memory per element:\", float_array.itemsize, \"bytes\")\n",
    "print()\n",
    "\n",
    "# 3. Use boolean indexing for filtering\n",
    "print(\"3. BOOLEAN INDEXING\")\n",
    "data = np.random.randint(1, 100, 20)\n",
    "print(\"Data:\", data)\n",
    "# Filter values > 50\n",
    "filtered = data[data > 50]\n",
    "print(\"Values > 50:\", filtered)\n",
    "print()\n",
    "\n",
    "# 4. Use axis parameter for operations\n",
    "print(\"4. AXIS OPERATIONS\")\n",
    "matrix = np.random.randint(1, 10, (3, 4))\n",
    "print(\"Matrix:\")\n",
    "print(matrix)\n",
    "print(\"Sum along axis=0 (columns):\", np.sum(matrix, axis=0))\n",
    "print(\"Sum along axis=1 (rows):\", np.sum(matrix, axis=1))\n",
    "print(\"Total sum:\", np.sum(matrix))\n",
    "print()\n",
    "\n",
    "# 5. Memory-efficient operations\n",
    "print(\"5. MEMORY TIPS\")\n",
    "# Use views when possible (no copy)\n",
    "original = np.arange(10)\n",
    "view = original[::2]  # This is a view, not a copy\n",
    "print(\"Original:\", original)\n",
    "print(\"View (every 2nd element):\", view)\n",
    "print(\"View shares memory with original:\", np.shares_memory(original, view))"
   ]
  },
  {
   "cell_type": "code",
   "execution_count": 20,
   "id": "a069f1c2",
   "metadata": {},
   "outputs": [
    {
     "name": "stdout",
     "output_type": "stream",
     "text": [
      "c:\\Sumit\\PROJECTS\\GenAI\\1-Python Basics\n"
     ]
    }
   ],
   "source": [
    "import os\n",
    "print(os.getcwd())\n",
    "os.mkdir('test_dir')\n"
   ]
  },
  {
   "cell_type": "code",
   "execution_count": 21,
   "id": "42e93acc",
   "metadata": {},
   "outputs": [
    {
     "data": {
      "text/plain": [
       "'destination.txt'"
      ]
     },
     "execution_count": 21,
     "metadata": {},
     "output_type": "execute_result"
    }
   ],
   "source": [
    "import shutil\n",
    "shutil.copyfile('sample.txt', 'destination.txt')\n"
   ]
  },
  {
   "cell_type": "code",
   "execution_count": 22,
   "id": "2d4a3f1c",
   "metadata": {},
   "outputs": [
    {
     "name": "stdout",
     "output_type": "stream",
     "text": [
      "{\"name\": \"Krish\", \"age\": 25}\n",
      "<class 'str'>\n",
      "{'name': 'Krish', 'age': 25}\n",
      "<class 'dict'>\n"
     ]
    }
   ],
   "source": [
    "import json\n",
    "data = {'name': 'Krish', 'age': 25}\n",
    "json_str = json.dumps(data)\n",
    "print(json_str)\n",
    "print(type(json_str))\n",
    "parsed_data = json.loads(json_str)\n",
    "print(parsed_data)\n",
    "print(type(parsed_data))\n"
   ]
  },
  {
   "cell_type": "code",
   "execution_count": null,
   "id": "1f9e72b9",
   "metadata": {},
   "outputs": [],
   "source": []
  },
  {
   "cell_type": "code",
   "execution_count": null,
   "id": "0e99e62f",
   "metadata": {},
   "outputs": [],
   "source": [
    "## JSON File Operations: json.dump() and json.load()\n",
    "\n",
    "print(\"=== JSON FILE OPERATIONS ===\")\n",
    "print(\"json.dump() - Write JSON data to a file\")\n",
    "print(\"json.load() - Read JSON data from a file\")\n",
    "print()\n",
    "\n",
    "# Sample data to work with\n",
    "student_data = {\n",
    "    'name': 'Sumit Kumar',\n",
    "    'age': 25,\n",
    "    'courses': ['Python', 'Machine Learning', 'Data Science'],\n",
    "    'grades': {'Python': 95, 'ML': 88, 'DS': 92},\n",
    "    'active': True,\n",
    "    'graduation_year': None\n",
    "}\n",
    "\n",
    "print(\"Original data:\")\n",
    "print(student_data)\n",
    "print()\n",
    "\n",
    "# 1. Writing JSON data to a file using json.dump()\n",
    "print(\"1. WRITING JSON TO FILE (json.dump)\")\n",
    "filename = 'student_data.json'\n",
    "\n",
    "with open(filename, 'w') as file:\n",
    "    json.dump(student_data, file, indent=4)  # indent for pretty formatting\n",
    "\n",
    "print(f\"✅ Data written to {filename}\")\n",
    "print()"
   ]
  },
  {
   "cell_type": "code",
   "execution_count": null,
   "id": "29680831",
   "metadata": {},
   "outputs": [],
   "source": [
    "# 2. Reading JSON data from file using json.load()\n",
    "print(\"2. READING JSON FROM FILE (json.load)\")\n",
    "\n",
    "with open(filename, 'r') as file:\n",
    "    loaded_data = json.load(file)\n",
    "\n",
    "print(\"✅ Data loaded from file:\")\n",
    "print(\"Loaded data:\", loaded_data)\n",
    "print(\"Data type:\", type(loaded_data))\n",
    "print()\n",
    "\n",
    "# Verify the data is identical\n",
    "print(\"3. VERIFICATION\")\n",
    "print(\"Original == Loaded:\", student_data == loaded_data)\n",
    "print()\n",
    "\n",
    "# Accessing loaded data\n",
    "print(\"4. ACCESSING LOADED DATA\")\n",
    "print(f\"Student name: {loaded_data['name']}\")\n",
    "print(f\"Courses: {loaded_data['courses']}\")\n",
    "print(f\"Python grade: {loaded_data['grades']['Python']}\")\n",
    "print()"
   ]
  },
  {
   "cell_type": "code",
   "execution_count": null,
   "id": "441f04fa",
   "metadata": {},
   "outputs": [],
   "source": [
    "## JSON.DUMP vs JSON.DUMPS Comparison\n",
    "\n",
    "print(\"=== COMPARISON: dump vs dumps, load vs loads ===\")\n",
    "print()\n",
    "\n",
    "# Sample data\n",
    "config_data = {\n",
    "    'database': {\n",
    "        'host': 'localhost',\n",
    "        'port': 5432,\n",
    "        'name': 'myapp'\n",
    "    },\n",
    "    'settings': {\n",
    "        'debug': True,\n",
    "        'max_connections': 100\n",
    "    }\n",
    "}\n",
    "\n",
    "print(\"METHODS COMPARISON:\")\n",
    "print(\"1. json.dump()  - Write JSON directly to FILE\")\n",
    "print(\"2. json.dumps() - Convert to JSON STRING\")\n",
    "print(\"3. json.load()  - Read JSON directly from FILE\") \n",
    "print(\"4. json.loads() - Parse JSON from STRING\")\n",
    "print()\n",
    "\n",
    "# Example 1: Using json.dump() to write to file\n",
    "print(\"📁 json.dump() - Writing to file:\")\n",
    "with open('config.json', 'w') as f:\n",
    "    json.dump(config_data, f, indent=2)\n",
    "print(\"✅ Data written directly to config.json file\")\n",
    "print()\n",
    "\n",
    "# Example 2: Using json.dumps() to create string\n",
    "print(\"📝 json.dumps() - Converting to string:\")\n",
    "json_string = json.dumps(config_data, indent=2)\n",
    "print(\"✅ Data converted to JSON string:\")\n",
    "print(json_string[:100] + \"...\" if len(json_string) > 100 else json_string)\n",
    "print()\n",
    "\n",
    "# Example 3: Using json.load() to read from file\n",
    "print(\"📖 json.load() - Reading from file:\")\n",
    "with open('config.json', 'r') as f:\n",
    "    loaded_config = json.load(f)\n",
    "print(\"✅ Data loaded from file:\")\n",
    "print(f\"Database host: {loaded_config['database']['host']}\")\n",
    "print()\n",
    "\n",
    "# Example 4: Using json.loads() to parse string\n",
    "print(\"🔍 json.loads() - Parsing from string:\")\n",
    "parsed_config = json.loads(json_string)\n",
    "print(\"✅ Data parsed from string:\")\n",
    "print(f\"Max connections: {parsed_config['settings']['max_connections']}\")\n",
    "print()"
   ]
  },
  {
   "cell_type": "code",
   "execution_count": null,
   "id": "d3a067ba",
   "metadata": {},
   "outputs": [],
   "source": [
    "## Advanced JSON Operations\n",
    "\n",
    "print(\"=== ADVANCED JSON FEATURES ===\")\n",
    "print()\n",
    "\n",
    "# 1. JSON with custom formatting\n",
    "print(\"1. CUSTOM FORMATTING OPTIONS\")\n",
    "sample_data = {\n",
    "    'users': [\n",
    "        {'id': 1, 'name': 'Alice', 'active': True},\n",
    "        {'id': 2, 'name': 'Bob', 'active': False},\n",
    "        {'id': 3, 'name': 'Charlie', 'active': True}\n",
    "    ],\n",
    "    'metadata': {\n",
    "        'total_users': 3,\n",
    "        'created_at': '2025-10-02'\n",
    "    }\n",
    "}\n",
    "\n",
    "# Different formatting options\n",
    "print(\"Compact format (no spaces):\")\n",
    "compact = json.dumps(sample_data, separators=(',', ':'))\n",
    "print(compact)\n",
    "print()\n",
    "\n",
    "print(\"Pretty format (with indentation):\")\n",
    "pretty = json.dumps(sample_data, indent=4, sort_keys=True)\n",
    "print(pretty)\n",
    "print()\n",
    "\n",
    "# 2. Handling special data types\n",
    "print(\"2. HANDLING SPECIAL DATA TYPES\")\n",
    "import datetime\n",
    "\n",
    "# Data with datetime (will cause error without custom encoder)\n",
    "special_data = {\n",
    "    'name': 'Event Log',\n",
    "    'timestamp': datetime.datetime.now(),\n",
    "    'count': 42\n",
    "}\n",
    "\n",
    "print(\"Original data with datetime:\")\n",
    "print(f\"Timestamp: {special_data['timestamp']}\")\n",
    "print(\"Type:\", type(special_data['timestamp']))\n",
    "print()\n",
    "\n",
    "# Custom JSON encoder for datetime\n",
    "class DateTimeEncoder(json.JSONEncoder):\n",
    "    def default(self, obj):\n",
    "        if isinstance(obj, datetime.datetime):\n",
    "            return obj.isoformat()\n",
    "        return super().default(obj)\n",
    "\n",
    "# Save with custom encoder\n",
    "with open('event_log.json', 'w') as f:\n",
    "    json.dump(special_data, f, cls=DateTimeEncoder, indent=2)\n",
    "\n",
    "print(\"✅ Data with datetime saved using custom encoder\")\n",
    "print()\n",
    "\n",
    "# Read and parse back\n",
    "with open('event_log.json', 'r') as f:\n",
    "    loaded_event = json.load(f)\n",
    "\n",
    "print(\"Loaded data:\")\n",
    "print(loaded_event)\n",
    "print(\"Timestamp is now string:\", type(loaded_event['timestamp']))"
   ]
  },
  {
   "cell_type": "code",
   "execution_count": null,
   "id": "7e52e282",
   "metadata": {},
   "outputs": [],
   "source": [
    "## Real-World JSON Use Cases\n",
    "\n",
    "print(\"=== REAL-WORLD JSON EXAMPLES ===\")\n",
    "print()\n",
    "\n",
    "# 1. Configuration File Management\n",
    "print(\"1. CONFIGURATION FILE MANAGEMENT\")\n",
    "app_config = {\n",
    "    'app_name': 'My GenAI App',\n",
    "    'version': '1.0.0',\n",
    "    'database': {\n",
    "        'host': 'localhost',\n",
    "        'port': 5432,\n",
    "        'name': 'genai_db',\n",
    "        'ssl': True\n",
    "    },\n",
    "    'api_keys': {\n",
    "        'openai': 'sk-xxx',\n",
    "        'azure': 'xxx-xxx'\n",
    "    },\n",
    "    'features': {\n",
    "        'chat_enabled': True,\n",
    "        'file_upload': True,\n",
    "        'max_file_size': 10485760  # 10MB\n",
    "    }\n",
    "}\n",
    "\n",
    "# Save configuration\n",
    "with open('app_config.json', 'w') as f:\n",
    "    json.dump(app_config, f, indent=4)\n",
    "print(\"✅ App configuration saved\")\n",
    "\n",
    "# Load and use configuration\n",
    "with open('app_config.json', 'r') as f:\n",
    "    config = json.load(f)\n",
    "\n",
    "print(f\"App: {config['app_name']} v{config['version']}\")\n",
    "print(f\"Database: {config['database']['host']}:{config['database']['port']}\")\n",
    "print(f\"Chat enabled: {config['features']['chat_enabled']}\")\n",
    "print()\n",
    "\n",
    "# 2. User Data Management\n",
    "print(\"2. USER DATA MANAGEMENT\")\n",
    "users_data = [\n",
    "    {\n",
    "        'id': 1,\n",
    "        'username': 'sumit_kumar',\n",
    "        'email': 'sumit@example.com',\n",
    "        'profile': {\n",
    "            'first_name': 'Sumit',\n",
    "            'last_name': 'Kumar',\n",
    "            'bio': 'AI/ML Enthusiast',\n",
    "            'location': 'India'\n",
    "        },\n",
    "        'preferences': {\n",
    "            'theme': 'dark',\n",
    "            'notifications': True,\n",
    "            'language': 'en'\n",
    "        }\n",
    "    },\n",
    "    {\n",
    "        'id': 2,\n",
    "        'username': 'alice_dev',\n",
    "        'email': 'alice@example.com', \n",
    "        'profile': {\n",
    "            'first_name': 'Alice',\n",
    "            'last_name': 'Johnson',\n",
    "            'bio': 'Python Developer',\n",
    "            'location': 'USA'\n",
    "        },\n",
    "        'preferences': {\n",
    "            'theme': 'light',\n",
    "            'notifications': False,\n",
    "            'language': 'en'\n",
    "        }\n",
    "    }\n",
    "]\n",
    "\n",
    "# Save users data\n",
    "with open('users.json', 'w') as f:\n",
    "    json.dump(users_data, f, indent=2)\n",
    "print(\"✅ Users data saved\")\n",
    "\n",
    "# Load and filter users\n",
    "with open('users.json', 'r') as f:\n",
    "    users = json.load(f)\n",
    "\n",
    "# Find users with notifications enabled\n",
    "active_users = [user for user in users if user['preferences']['notifications']]\n",
    "print(f\"Users with notifications: {len(active_users)}\")\n",
    "for user in active_users:\n",
    "    print(f\"  - {user['profile']['first_name']} {user['profile']['last_name']}\")\n",
    "print()\n",
    "\n",
    "# 3. Data Export/Import\n",
    "print(\"3. DATA EXPORT/IMPORT SCENARIO\")\n",
    "# Simulating export of analysis results\n",
    "analysis_results = {\n",
    "    'analysis_id': 'ANL_001',\n",
    "    'dataset': 'customer_data.csv',\n",
    "    'performed_at': '2025-10-02T10:30:00',\n",
    "    'results': {\n",
    "        'total_records': 1000,\n",
    "        'missing_values': 45,\n",
    "        'duplicates': 12,\n",
    "        'data_quality_score': 0.87\n",
    "    },\n",
    "    'recommendations': [\n",
    "        'Handle missing values in age column',\n",
    "        'Remove duplicate customer records',\n",
    "        'Validate email format'\n",
    "    ],\n",
    "    'charts_generated': ['histogram.png', 'correlation_matrix.png']\n",
    "}\n",
    "\n",
    "# Export results\n",
    "with open('analysis_results.json', 'w') as f:\n",
    "    json.dump(analysis_results, f, indent=2)\n",
    "print(\"✅ Analysis results exported\")\n",
    "\n",
    "# Import and generate summary\n",
    "with open('analysis_results.json', 'r') as f:\n",
    "    results = json.load(f)\n",
    "\n",
    "print(f\"Analysis ID: {results['analysis_id']}\")\n",
    "print(f\"Dataset: {results['dataset']}\")\n",
    "print(f\"Quality Score: {results['results']['data_quality_score']:.0%}\")\n",
    "print(f\"Recommendations: {len(results['recommendations'])}\")\n",
    "print(\"Charts:\", ', '.join(results['charts_generated']))"
   ]
  },
  {
   "cell_type": "markdown",
   "id": "5ba5de2b",
   "metadata": {},
   "source": [
    "## JSON Methods Summary\n",
    "\n",
    "| Method | Purpose | Input | Output | Use Case |\n",
    "|--------|---------|--------|---------|----------|\n",
    "| `json.dump()` | Write JSON to **file** | Python object + file | None | Save data to file |\n",
    "| `json.dumps()` | Convert to JSON **string** | Python object | JSON string | API responses, logs |\n",
    "| `json.load()` | Read JSON from **file** | File object | Python object | Load config files |\n",
    "| `json.loads()` | Parse JSON **string** | JSON string | Python object | Parse API responses |\n",
    "\n",
    "### Key Differences:\n",
    "- **dump/load**: Work with **files** directly \n",
    "- **dumps/loads**: Work with **strings** (the 's' stands for 'string')\n",
    "\n",
    "### Common Parameters:\n",
    "- `indent`: Pretty formatting (e.g., `indent=4`)\n",
    "- `sort_keys`: Sort dictionary keys alphabetically\n",
    "- `separators`: Control spacing (e.g., `(',', ':')` for compact)\n",
    "- `ensure_ascii`: Handle non-ASCII characters"
   ]
  },
  {
   "cell_type": "code",
   "execution_count": null,
   "id": "88581a05",
   "metadata": {},
   "outputs": [],
   "source": [
    "## Error Handling with JSON\n",
    "\n",
    "print(\"=== JSON ERROR HANDLING ===\")\n",
    "print()\n",
    "\n",
    "# 1. Handling JSON decode errors\n",
    "print(\"1. HANDLING INVALID JSON\")\n",
    "\n",
    "invalid_json_string = '{\"name\": \"John\", \"age\": 30, \"active\": True,}'  # Extra comma\n",
    "print(\"Invalid JSON string:\", invalid_json_string)\n",
    "\n",
    "try:\n",
    "    data = json.loads(invalid_json_string)\n",
    "    print(\"Parsed successfully:\", data)\n",
    "except json.JSONDecodeError as e:\n",
    "    print(f\"❌ JSON Decode Error: {e}\")\n",
    "    print(f\"Error at position: {e.pos}\")\n",
    "    print(f\"Error message: {e.msg}\")\n",
    "print()\n",
    "\n",
    "# 2. Handling file not found\n",
    "print(\"2. HANDLING FILE NOT FOUND\")\n",
    "try:\n",
    "    with open('nonexistent_file.json', 'r') as f:\n",
    "        data = json.load(f)\n",
    "except FileNotFoundError as e:\n",
    "    print(f\"❌ File Not Found: {e}\")\n",
    "except json.JSONDecodeError as e:\n",
    "    print(f\"❌ JSON Decode Error: {e}\")\n",
    "print()\n",
    "\n",
    "# 3. Safe JSON operations with error handling\n",
    "print(\"3. SAFE JSON OPERATIONS\")\n",
    "\n",
    "def safe_json_load(filename, default=None):\n",
    "    \"\"\"Safely load JSON file with error handling\"\"\"\n",
    "    try:\n",
    "        with open(filename, 'r') as f:\n",
    "            return json.load(f)\n",
    "    except FileNotFoundError:\n",
    "        print(f\"⚠️  File {filename} not found, returning default value\")\n",
    "        return default\n",
    "    except json.JSONDecodeError as e:\n",
    "        print(f\"⚠️  Invalid JSON in {filename}: {e}\")\n",
    "        return default\n",
    "    except Exception as e:\n",
    "        print(f\"⚠️  Unexpected error reading {filename}: {e}\")\n",
    "        return default\n",
    "\n",
    "def safe_json_save(data, filename):\n",
    "    \"\"\"Safely save data to JSON file\"\"\"\n",
    "    try:\n",
    "        with open(filename, 'w') as f:\n",
    "            json.dump(data, f, indent=2)\n",
    "        print(f\"✅ Successfully saved data to {filename}\")\n",
    "        return True\n",
    "    except TypeError as e:\n",
    "        print(f\"❌ Cannot serialize data to JSON: {e}\")\n",
    "        return False\n",
    "    except Exception as e:\n",
    "        print(f\"❌ Error saving to {filename}: {e}\")\n",
    "        return False\n",
    "\n",
    "# Test safe operations\n",
    "test_data = {'message': 'Hello, World!', 'status': 'success'}\n",
    "\n",
    "# Safe save\n",
    "safe_json_save(test_data, 'test_safe.json')\n",
    "\n",
    "# Safe load (existing file)\n",
    "loaded = safe_json_load('test_safe.json', {})\n",
    "print(\"Loaded data:\", loaded)\n",
    "\n",
    "# Safe load (non-existing file with default)\n",
    "default_config = {'theme': 'dark', 'language': 'en'}\n",
    "config = safe_json_load('missing_config.json', default_config)\n",
    "print(\"Config with defaults:\", config)"
   ]
  },
  {
   "cell_type": "code",
   "execution_count": 23,
   "id": "d1da1903",
   "metadata": {},
   "outputs": [
    {
     "name": "stdout",
     "output_type": "stream",
     "text": [
      "['name', 'age']\n",
      "['Krish', '32']\n"
     ]
    }
   ],
   "source": [
    "import csv\n",
    "with open('sample.csv', 'w', newline='') as file:\n",
    "    writer = csv.writer(file)\n",
    "    writer.writerow(['name', 'age'])\n",
    "    writer.writerow(['Krish', 32])\n",
    "with open('sample.csv', 'r') as file:\n",
    "    reader = csv.reader(file)\n",
    "    for row in reader:\n",
    "        print(row)"
   ]
  },
  {
   "cell_type": "code",
   "execution_count": 31,
   "id": "d0c92156",
   "metadata": {},
   "outputs": [],
   "source": [
    "user_dictionary = [\n",
    "    { 'id': 1, 'message': 'Hello, how can I help you?' },\n",
    "    { 'id': 2, 'message': 'I have a question about my order.' },\n",
    "    { 'id': 3, 'message': 'Sure, please provide your order ID.' },\n",
    "    { 'id': 4, 'message': 'Sure, please provide your order ID.' },\n",
    "]\n",
    "\n",
    "def genCsvFromDisc(disc, filename):\n",
    "    with open(filename, 'w+', newline='') as file:\n",
    "        writer = csv.DictWriter(file, fieldnames=['id', 'message'])\n",
    "        writer.writeheader()\n",
    "        writer.writerows(disc)\n",
    "        file.write('Hello world\\n')\n",
    "        file.write('This is a new line\\n')\n",
    "\n",
    "genCsvFromDisc(user_dictionary, 'user_messages.csv')        "
   ]
  },
  {
   "cell_type": "code",
   "execution_count": 27,
   "id": "68624a14",
   "metadata": {},
   "outputs": [
    {
     "name": "stdout",
     "output_type": "stream",
     "text": [
      "1759408703.9991992\n",
      "1759408706.000846\n",
      "1759408706.000846\n"
     ]
    }
   ],
   "source": [
    "import time\n",
    "print(time.time())\n",
    "time.sleep(2)\n",
    "print(time.time())\n"
   ]
  },
  {
   "cell_type": "code",
   "execution_count": 28,
   "id": "f4dd3071",
   "metadata": {},
   "outputs": [
    {
     "name": "stdout",
     "output_type": "stream",
     "text": [
      "123\n"
     ]
    }
   ],
   "source": [
    "import re\n",
    "pattern = r'\\d+'\n",
    "text = 'There are 123 apples.'\n",
    "match = re.search(pattern, text)\n",
    "if match:\n",
    "    print(match.group())\n"
   ]
  },
  {
   "cell_type": "code",
   "execution_count": 32,
   "id": "ad396e85",
   "metadata": {},
   "outputs": [],
   "source": [
    "with open('sample.txt', 'a') as file:\n",
    "    file.write('Append operation taking place.\\n')"
   ]
  },
  {
   "cell_type": "code",
   "execution_count": 33,
   "id": "f5bb099f",
   "metadata": {},
   "outputs": [],
   "source": [
    "lines = ['This is my first line\\n', 'Second line\\n', 'Third line\\n']\n",
    "with open('example.txt', 'a') as file:\n",
    "    file.writelines(lines)"
   ]
  },
  {
   "cell_type": "code",
   "execution_count": 34,
   "id": "120094eb",
   "metadata": {},
   "outputs": [],
   "source": [
    "with open('example.bin', 'wb') as file:\n",
    "    file.write(b'Hello world. Some information.')"
   ]
  },
  {
   "cell_type": "code",
   "execution_count": 36,
   "id": "1281e2c8",
   "metadata": {},
   "outputs": [
    {
     "name": "stdout",
     "output_type": "stream",
     "text": [
      "b'Hello world. Some information.'\n"
     ]
    }
   ],
   "source": [
    "with open('example.bin', 'rb') as file:\n",
    "    content = file.read()\n",
    "    print(content)"
   ]
  },
  {
   "cell_type": "code",
   "execution_count": 37,
   "id": "e47fa9fb",
   "metadata": {},
   "outputs": [],
   "source": [
    "with open('example.txt', 'r') as source_file:\n",
    "    content = source_file.read()\n",
    "\n",
    "with open('destination.txt', 'w') as dest_file:\n",
    "    dest_file.write(content)"
   ]
  },
  {
   "cell_type": "code",
   "execution_count": 38,
   "id": "ce8d6189",
   "metadata": {},
   "outputs": [
    {
     "name": "stdout",
     "output_type": "stream",
     "text": [
      "Lines: 3, Words: 9, Characters: 45\n"
     ]
    }
   ],
   "source": [
    "def count_file_stats(filename):\n",
    "    with open(filename, 'r') as file:\n",
    "        lines = file.readlines()\n",
    "    num_lines = len(lines)\n",
    "    num_words = sum(len(line.split()) for line in lines)\n",
    "    num_chars = sum(len(line) for line in lines)\n",
    "    return num_lines, num_words, num_chars\n",
    "\n",
    "lines, words, chars = count_file_stats('example.txt')\n",
    "print(f'Lines: {lines}, Words: {words}, Characters: {chars}')"
   ]
  },
  {
   "cell_type": "code",
   "execution_count": 41,
   "id": "89625298",
   "metadata": {},
   "outputs": [
    {
     "name": "stdout",
     "output_type": "stream",
     "text": [
      "Hello world\n",
      "This is a new line\n",
      "\n"
     ]
    }
   ],
   "source": [
    "with open('example.txt', 'w+') as file:\n",
    "    file.write('Hello world\\n')\n",
    "    file.write('This is a new line\\n')\n",
    "    file.seek(0)  # Move cursor to the beginning\n",
    "    content = file.read()\n",
    "    print(content)"
   ]
  },
  {
   "cell_type": "code",
   "execution_count": 47,
   "id": "ac2806b1",
   "metadata": {},
   "outputs": [
    {
     "name": "stdout",
     "output_type": "stream",
     "text": [
      "c:\\Sumit\\PROJECTS\\GenAI\\1-Python Basics\n",
      "Directory 'package' already exists.\n"
     ]
    }
   ],
   "source": [
    "import os\n",
    "print(os.getcwd())\n",
    "\n",
    "new_dir = 'package'\n",
    "if not os.path.exists(new_dir):\n",
    "    os.mkdir(new_dir)\n",
    "else:\n",
    "    print(f\"Directory '{new_dir}' already exists.\") \n",
    "\n",
    "with open('package/__init__.py', 'w') as file:\n",
    "    file.write('# Init file for package\\n')     "
   ]
  },
  {
   "cell_type": "code",
   "execution_count": 51,
   "id": "4a050b22",
   "metadata": {},
   "outputs": [
    {
     "name": "stdout",
     "output_type": "stream",
     "text": [
      "['1-Python Basics', 'app.py', 'requirements.txt', 'sample.txt', 'venv']\n"
     ]
    }
   ],
   "source": [
    "items = os.listdir('../')\n",
    "print(items)"
   ]
  },
  {
   "cell_type": "code",
   "execution_count": 56,
   "id": "54804487",
   "metadata": {},
   "outputs": [
    {
     "name": "stdout",
     "output_type": "stream",
     "text": [
      "package\\example.txt\n"
     ]
    }
   ],
   "source": [
    "dir_name = \"package\"\n",
    "file_name = \"example.txt\"\n",
    "full_path = os.path.join(dir_name, file_name)\n",
    "print(full_path)"
   ]
  },
  {
   "cell_type": "code",
   "execution_count": 57,
   "id": "d56e9997",
   "metadata": {},
   "outputs": [
    {
     "name": "stdout",
     "output_type": "stream",
     "text": [
      "c:\\Sumit\\PROJECTS\\GenAI\\1-Python Basics\\example.txt\n"
     ]
    }
   ],
   "source": [
    "\n",
    "file_name = \"example.txt\"\n",
    "full_path = os.path.join(os.getcwd(), file_name)\n",
    "print(full_path)"
   ]
  },
  {
   "cell_type": "code",
   "execution_count": 59,
   "id": "d219b402",
   "metadata": {},
   "outputs": [
    {
     "name": "stdout",
     "output_type": "stream",
     "text": [
      "package is a directory.\n"
     ]
    }
   ],
   "source": [
    "#path = \"example.txt\"\n",
    "path = \"package\"\n",
    "\n",
    "if os.path.isfile(path):\n",
    "    print(f\"{path} is a file.\")\n",
    "elif os.path.isdir(path):\n",
    "    print(f\"{path} is a directory.\")"
   ]
  },
  {
   "cell_type": "code",
   "execution_count": 64,
   "id": "6b606357",
   "metadata": {},
   "outputs": [
    {
     "name": "stdout",
     "output_type": "stream",
     "text": [
      "('example', '.txt')\n",
      "example.txt\n",
      "/path/to\n",
      "c:\\Sumit\\PROJECTS\\GenAI\\1-Python Basics\\example.txt\n",
      "True\n",
      "33\n",
      "1759409622.8453135\n",
      "1759409362.2070048\n"
     ]
    }
   ],
   "source": [
    "file_name = \"example.txt\"\n",
    "print(os.path.splitext(file_name))  # ('example', '.txt')\n",
    "print(os.path.basename('/path/to/example.txt'))  # example.txt\n",
    "print(os.path.dirname('/path/to/example.txt'))  # /path/to  \n",
    "print(os.path.abspath(file_name))  # Full absolute path\n",
    "print(os.path.exists(file_name))  # True or False\n",
    "print(os.path.getsize(file_name))  # Size in bytes \n",
    "print(os.path.getmtime(file_name))  # Last modified time (timestamp)\n",
    "print(os.path.getctime(file_name))  # Creation time (timestamp)\n"
   ]
  },
  {
   "cell_type": "code",
   "execution_count": 1,
   "id": "6949eb6c",
   "metadata": {},
   "outputs": [],
   "source": [
    "class Car:\n",
    "    pass\n",
    "\n",
    "audi = Car()\n",
    "bmw = Car()"
   ]
  },
  {
   "cell_type": "code",
   "execution_count": 2,
   "id": "fceecac3",
   "metadata": {},
   "outputs": [
    {
     "name": "stdout",
     "output_type": "stream",
     "text": [
      "4\n"
     ]
    },
    {
     "ename": "AttributeError",
     "evalue": "'Car' object has no attribute 'windows'",
     "output_type": "error",
     "traceback": [
      "\u001b[31m---------------------------------------------------------------------------\u001b[39m",
      "\u001b[31mAttributeError\u001b[39m                            Traceback (most recent call last)",
      "\u001b[36mCell\u001b[39m\u001b[36m \u001b[39m\u001b[32mIn[2]\u001b[39m\u001b[32m, line 6\u001b[39m\n\u001b[32m      4\u001b[39m tata = Car()\n\u001b[32m      5\u001b[39m tata.doors = \u001b[32m4\u001b[39m\n\u001b[32m----> \u001b[39m\u001b[32m6\u001b[39m \u001b[38;5;28mprint\u001b[39m(\u001b[43mtata\u001b[49m\u001b[43m.\u001b[49m\u001b[43mwindows\u001b[49m)  \u001b[38;5;66;03m# This will raise an AttributeError\u001b[39;00m\n",
      "\u001b[31mAttributeError\u001b[39m: 'Car' object has no attribute 'windows'"
     ]
    }
   ],
   "source": [
    "audi.windows = 4\n",
    "print(audi.windows)\n",
    "\n",
    "tata = Car()\n",
    "tata.doors = 4\n",
    "print(tata.windows)  # This will raise an AttributeError"
   ]
  },
  {
   "cell_type": "code",
   "execution_count": 5,
   "id": "7139f3d7",
   "metadata": {},
   "outputs": [],
   "source": [
    "class Dog:\n",
    "    def __init__(self, name, age):\n",
    "        self.name = name\n",
    "        self.age = age\n",
    "    def bark(self):\n",
    "        print(f\"{self.name} says woof\")"
   ]
  },
  {
   "cell_type": "code",
   "execution_count": 6,
   "id": "61dc8d5a",
   "metadata": {},
   "outputs": [
    {
     "name": "stdout",
     "output_type": "stream",
     "text": [
      "Buddy\n",
      "3\n",
      "Lucy\n",
      "4\n"
     ]
    }
   ],
   "source": [
    "dog1 = Dog('Buddy', 3)\n",
    "print(dog1.name)\n",
    "print(dog1.age)\n",
    "\n",
    "dog2 = Dog('Lucy', 4)\n",
    "print(dog2.name)\n",
    "print(dog2.age)"
   ]
  },
  {
   "cell_type": "code",
   "execution_count": 7,
   "id": "7fb1c47f",
   "metadata": {},
   "outputs": [
    {
     "name": "stdout",
     "output_type": "stream",
     "text": [
      "Buddy says woof\n",
      "Lucy says woof\n"
     ]
    }
   ],
   "source": [
    "dog1 = Dog('Buddy', 3)\n",
    "dog1.bark()\n",
    "\n",
    "dog2 = Dog('Lucy', 4)\n",
    "dog2.bark()"
   ]
  },
  {
   "cell_type": "code",
   "execution_count": 8,
   "id": "9aac77d4",
   "metadata": {},
   "outputs": [],
   "source": [
    "class BankAccount:\n",
    "    def __init__(self, owner, balance=0):\n",
    "        self.owner = owner\n",
    "        self.balance = balance\n",
    "    def deposit(self, amount):\n",
    "        self.balance += amount\n",
    "        print(f\"{amount} is deposited, new balance is {self.balance}\")\n",
    "    def withdraw(self, amount):\n",
    "        if amount > self.balance:\n",
    "            print(\"Insufficient funds.\")\n",
    "        else:\n",
    "            self.balance -= amount\n",
    "            print(f\"{amount} is withdrawn, new balance is {self.balance}\")\n",
    "    def get_balance(self):\n",
    "        return self.balance"
   ]
  },
  {
   "cell_type": "code",
   "execution_count": 9,
   "id": "df56d5d8",
   "metadata": {},
   "outputs": [
    {
     "name": "stdout",
     "output_type": "stream",
     "text": [
      "5000\n",
      "100 is deposited, new balance is 5100\n",
      "300 is withdrawn, new balance is 4800\n",
      "4800\n"
     ]
    }
   ],
   "source": [
    "account = BankAccount('Crush', 5000)\n",
    "print(account.balance)\n",
    "\n",
    "account.deposit(100)\n",
    "account.withdraw(300)\n",
    "print(account.get_balance())"
   ]
  },
  {
   "cell_type": "code",
   "execution_count": 10,
   "id": "14645605",
   "metadata": {},
   "outputs": [
    {
     "data": {
      "text/plain": [
       "['__class__',\n",
       " '__delattr__',\n",
       " '__dict__',\n",
       " '__dir__',\n",
       " '__doc__',\n",
       " '__eq__',\n",
       " '__firstlineno__',\n",
       " '__format__',\n",
       " '__ge__',\n",
       " '__getattribute__',\n",
       " '__getstate__',\n",
       " '__gt__',\n",
       " '__hash__',\n",
       " '__init__',\n",
       " '__init_subclass__',\n",
       " '__le__',\n",
       " '__lt__',\n",
       " '__module__',\n",
       " '__ne__',\n",
       " '__new__',\n",
       " '__reduce__',\n",
       " '__reduce_ex__',\n",
       " '__repr__',\n",
       " '__setattr__',\n",
       " '__sizeof__',\n",
       " '__static_attributes__',\n",
       " '__str__',\n",
       " '__subclasshook__',\n",
       " '__weakref__',\n",
       " 'balance',\n",
       " 'deposit',\n",
       " 'get_balance',\n",
       " 'owner',\n",
       " 'withdraw']"
      ]
     },
     "execution_count": 10,
     "metadata": {},
     "output_type": "execute_result"
    }
   ],
   "source": [
    "dir(account)"
   ]
  },
  {
   "cell_type": "code",
   "execution_count": 11,
   "id": "41149a52",
   "metadata": {},
   "outputs": [],
   "source": [
    "class Car:\n",
    "    def __init__(self, windows, doors, engine_type):\n",
    "        self.windows = windows\n",
    "        self.doors = doors\n",
    "        self.engine_type = engine_type\n",
    "    def drive(self):\n",
    "        print(f\"The person will drive the {self.engine_type} car.\")\n"
   ]
  },
  {
   "cell_type": "code",
   "execution_count": 12,
   "id": "eb008b29",
   "metadata": {},
   "outputs": [
    {
     "name": "stdout",
     "output_type": "stream",
     "text": [
      "The person will drive the petrol car.\n"
     ]
    }
   ],
   "source": [
    "car1 = Car(4, 5, \"petrol\")\n",
    "car1.drive()\n"
   ]
  },
  {
   "cell_type": "code",
   "execution_count": 13,
   "id": "96231b70",
   "metadata": {},
   "outputs": [
    {
     "name": "stdout",
     "output_type": "stream",
     "text": [
      "Tesla supports self-driving = True\n",
      "The person will drive the electric car.\n"
     ]
    }
   ],
   "source": [
    "class Tesla(Car):\n",
    "    def __init__(self, windows, doors, engine_type, is_self_driving):\n",
    "        super().__init__(windows, doors, engine_type)\n",
    "        self.is_self_driving = is_self_driving\n",
    "    def self_driving(self):\n",
    "        print(f\"Tesla supports self-driving = {self.is_self_driving}\")\n",
    "\n",
    "tesla1 = Tesla(4, 5, \"electric\", True)\n",
    "tesla1.self_driving()\n",
    "tesla1.drive()\n"
   ]
  },
  {
   "cell_type": "code",
   "execution_count": 14,
   "id": "324f7ab5",
   "metadata": {},
   "outputs": [
    {
     "name": "stdout",
     "output_type": "stream",
     "text": [
      "Buddy says woof\n",
      "Crush\n"
     ]
    }
   ],
   "source": [
    "class Animal:\n",
    "    def __init__(self, name):\n",
    "        self.name = name\n",
    "    def speak(self):\n",
    "        print(\"Sub classes must implement this method.\")\n",
    "class Pet:\n",
    "    def __init__(self, owner):\n",
    "        self.owner = owner\n",
    "\n",
    "\n",
    "class Dog(Animal, Pet):\n",
    "    def __init__(self, name, owner):\n",
    "        Animal.__init__(self, name)\n",
    "        Pet.__init__(self, owner)\n",
    "    def speak(self):\n",
    "        return f\"{self.name} says woof\"\n",
    "    \n",
    "\n",
    "dog = Dog(\"Buddy\", \"Crush\")\n",
    "print(dog.speak())\n",
    "print(dog.owner)\n",
    "\n"
   ]
  },
  {
   "cell_type": "code",
   "execution_count": 15,
   "id": "eba082cb",
   "metadata": {},
   "outputs": [
    {
     "name": "stdout",
     "output_type": "stream",
     "text": [
      "Woof\n",
      "Meow\n",
      "The sound of the animal\n"
     ]
    }
   ],
   "source": [
    "class Animal:\n",
    "    def speak(self):\n",
    "        return \"The sound of the animal\"\n",
    "class Dog(Animal):\n",
    "    def speak(self):\n",
    "        return \"Woof\"\n",
    "class Cat(Animal):\n",
    "    def speak(self):\n",
    "        return \"Meow\"\n",
    "\n",
    "\n",
    "dog = Dog()\n",
    "print(dog.speak())  # Output: Woof\n",
    "cat = Cat()\n",
    "print(cat.speak())  # Output: Meow\n",
    "animal = Animal()\n",
    "print(animal.speak())  # Output: The sound of the animal"
   ]
  },
  {
   "cell_type": "code",
   "execution_count": 16,
   "id": "31c4bd43",
   "metadata": {},
   "outputs": [
    {
     "name": "stdout",
     "output_type": "stream",
     "text": [
      "Woof\n",
      "Meow\n"
     ]
    }
   ],
   "source": [
    "def animal_speak(animal):\n",
    "    print(animal.speak())\n",
    "\n",
    "animal_speak(dog)  # Output: Woof\n",
    "animal_speak(cat)  # Output: Meow"
   ]
  },
  {
   "cell_type": "code",
   "execution_count": 17,
   "id": "75bdb8d4",
   "metadata": {},
   "outputs": [],
   "source": [
    "class Shape:\n",
    "    def area(self):\n",
    "        print(\"Area of the shape\")\n",
    "\n",
    "class Rectangle(Shape):\n",
    "    def __init__(self, width, height):\n",
    "        self.width = width\n",
    "        self.height = height\n",
    "    def area(self):\n",
    "        return self.width * self.height\n",
    "    \n",
    "            "
   ]
  },
  {
   "cell_type": "code",
   "execution_count": 18,
   "id": "235a5028",
   "metadata": {},
   "outputs": [],
   "source": [
    "class Circle(Shape):\n",
    "    def __init__(self, radius):\n",
    "        self.radius = radius\n",
    "    def area(self):\n",
    "        return 3.14 * self.radius * self.radius"
   ]
  },
  {
   "cell_type": "code",
   "execution_count": 19,
   "id": "4137b7c8",
   "metadata": {},
   "outputs": [],
   "source": [
    "def print_area(shape):\n",
    "    print(f\"The area is {shape.area()}\")"
   ]
  },
  {
   "cell_type": "code",
   "execution_count": 20,
   "id": "a721809f",
   "metadata": {},
   "outputs": [
    {
     "name": "stdout",
     "output_type": "stream",
     "text": [
      "The area is 20\n",
      "The area is 28.259999999999998\n"
     ]
    }
   ],
   "source": [
    "rectangle = Rectangle(4, 5)\n",
    "circle = Circle(3)\n",
    "\n",
    "print_area(rectangle)  # Output: The area is 20\n",
    "print_area(circle)     # Output: The area is 28.26"
   ]
  },
  {
   "cell_type": "code",
   "execution_count": 26,
   "id": "e3aeed30",
   "metadata": {},
   "outputs": [],
   "source": [
    "#### Polymorphism with Abstract Base Classes (ABCs)"
   ]
  },
  {
   "cell_type": "code",
   "execution_count": 31,
   "id": "8f27c6f2",
   "metadata": {},
   "outputs": [],
   "source": [
    "class Person:\n",
    "    def __init__(self, name, age):\n",
    "        self.name = name\n",
    "        self.age = age\n",
    "    \n",
    "    def __str__(self):\n",
    "        return f\"{self.name}, {self.age} years old\"\n"
   ]
  },
  {
   "cell_type": "code",
   "execution_count": 32,
   "id": "eb812fd3",
   "metadata": {},
   "outputs": [
    {
     "name": "stdout",
     "output_type": "stream",
     "text": [
      "Krish, 34 years old\n"
     ]
    }
   ],
   "source": [
    "person = Person('Krish', 34)\n",
    "print(person)\n"
   ]
  },
  {
   "cell_type": "code",
   "execution_count": 33,
   "id": "6c1f6794",
   "metadata": {},
   "outputs": [],
   "source": [
    "class Person:\n",
    "    def __init__(self, name, age):\n",
    "        self.name = name\n",
    "        self.age = age\n",
    "    \n",
    "    def __str__(self):\n",
    "        return f\"{self.name}, {self.age} years old\"\n",
    "    \n",
    "    def __repr__(self):\n",
    "        return f\"Person(name='{self.name}', age={self.age})\"\n"
   ]
  },
  {
   "cell_type": "code",
   "execution_count": 34,
   "id": "a5c76206",
   "metadata": {},
   "outputs": [
    {
     "name": "stdout",
     "output_type": "stream",
     "text": [
      "Person(name='Krish', age=34)\n"
     ]
    }
   ],
   "source": [
    "person = Person('Krish', 34)\n",
    "print(repr(person))\n"
   ]
  },
  {
   "cell_type": "code",
   "execution_count": null,
   "id": "389bb10b",
   "metadata": {},
   "outputs": [],
   "source": []
  }
 ],
 "metadata": {
  "kernelspec": {
   "display_name": "venv",
   "language": "python",
   "name": "python3"
  },
  "language_info": {
   "codemirror_mode": {
    "name": "ipython",
    "version": 3
   },
   "file_extension": ".py",
   "mimetype": "text/x-python",
   "name": "python",
   "nbconvert_exporter": "python",
   "pygments_lexer": "ipython3",
   "version": "3.13.5"
  }
 },
 "nbformat": 4,
 "nbformat_minor": 5
}
