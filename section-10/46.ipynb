{
 "cells": [
  {
   "cell_type": "markdown",
   "id": "d66507c6",
   "metadata": {},
   "source": [
    "### ONE HOT ENCODING"
   ]
  },
  {
   "cell_type": "code",
   "execution_count": 2,
   "id": "f443e387",
   "metadata": {},
   "outputs": [
    {
     "name": "stdout",
     "output_type": "stream",
     "text": [
      "Unique colors: ['red', 'blue', 'green']\n",
      "One-hot encoded output:\n",
      "[1, 0, 0]\n",
      "[0, 1, 0]\n",
      "[0, 0, 1]\n",
      "[0, 1, 0]\n"
     ]
    }
   ],
   "source": [
    "colors = ['red', 'blue', 'green', 'blue']\n",
    "\n",
    "unique_colors = list(set(colors))\n",
    "\n",
    "one_hot_encoded = []\n",
    "for color in colors:\n",
    "    row = [1 if color == unique else 0 for unique in unique_colors]\n",
    "    one_hot_encoded.append(row)\n",
    "\n",
    "print(\"Unique colors:\", unique_colors)\n",
    "print(\"One-hot encoded output:\")\n",
    "for row in one_hot_encoded:\n",
    "    print(row)\n"
   ]
  },
  {
   "cell_type": "code",
   "execution_count": 3,
   "id": "d64376ef",
   "metadata": {},
   "outputs": [
    {
     "name": "stdout",
     "output_type": "stream",
     "text": [
      "   Color_blue  Color_green  Color_red\n",
      "0       False        False       True\n",
      "1        True        False      False\n",
      "2       False         True      False\n",
      "3        True        False      False\n"
     ]
    }
   ],
   "source": [
    "import pandas as pd\n",
    "\n",
    "data = {'Color': ['red', 'blue', 'green', 'blue']}\n",
    "df = pd.DataFrame(data)\n",
    "\n",
    "encoded_df = pd.get_dummies(df, columns=['Color'])\n",
    "print(encoded_df)\n"
   ]
  },
  {
   "cell_type": "code",
   "execution_count": 4,
   "id": "5a2cff62",
   "metadata": {},
   "outputs": [
    {
     "name": "stdout",
     "output_type": "stream",
     "text": [
      "Categories: [array(['blue', 'green', 'red'], dtype=object)]\n",
      "Encoded array:\n",
      " [[0. 0. 1.]\n",
      " [1. 0. 0.]\n",
      " [0. 1. 0.]\n",
      " [1. 0. 0.]]\n"
     ]
    }
   ],
   "source": [
    "from sklearn.preprocessing import OneHotEncoder\n",
    "\n",
    "data = [['red'], ['blue'], ['green'], ['blue']]\n",
    "encoder = OneHotEncoder(sparse_output=False)  # use sparse=False for older sklearn versions\n",
    "\n",
    "encoded = encoder.fit_transform(data)\n",
    "\n",
    "print(\"Categories:\", encoder.categories_)\n",
    "print(\"Encoded array:\\n\", encoded)\n"
   ]
  },
  {
   "cell_type": "code",
   "execution_count": null,
   "id": "63f696b1",
   "metadata": {},
   "outputs": [],
   "source": []
  }
 ],
 "metadata": {
  "kernelspec": {
   "display_name": "venv",
   "language": "python",
   "name": "python3"
  },
  "language_info": {
   "codemirror_mode": {
    "name": "ipython",
    "version": 3
   },
   "file_extension": ".py",
   "mimetype": "text/x-python",
   "name": "python",
   "nbconvert_exporter": "python",
   "pygments_lexer": "ipython3",
   "version": "3.13.5"
  }
 },
 "nbformat": 4,
 "nbformat_minor": 5
}
