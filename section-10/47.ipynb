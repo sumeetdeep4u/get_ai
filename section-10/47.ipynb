{
 "cells": [
  {
   "cell_type": "markdown",
   "id": "6953ec7d",
   "metadata": {},
   "source": [
    "### Bag Of Words Intuition"
   ]
  },
  {
   "cell_type": "code",
   "execution_count": 1,
   "id": "b1644e7e",
   "metadata": {},
   "outputs": [
    {
     "name": "stdout",
     "output_type": "stream",
     "text": [
      "Vocabulary: ['and' 'are' 'cats' 'cute' 'dogs' 'love']\n",
      "Bag of Words Matrix:\n",
      " [[0 0 0 0 1 1]\n",
      " [0 0 1 0 0 1]\n",
      " [1 1 1 1 1 0]]\n"
     ]
    }
   ],
   "source": [
    "from sklearn.feature_extraction.text import CountVectorizer\n",
    "\n",
    "corpus = [\n",
    "    \"I love dogs\",\n",
    "    \"I love cats\",\n",
    "    \"Dogs and cats are cute\"\n",
    "]\n",
    "\n",
    "vectorizer = CountVectorizer()\n",
    "X = vectorizer.fit_transform(corpus)\n",
    "\n",
    "print(\"Vocabulary:\", vectorizer.get_feature_names_out())\n",
    "print(\"Bag of Words Matrix:\\n\", X.toarray())\n"
   ]
  },
  {
   "cell_type": "code",
   "execution_count": 2,
   "id": "c56d698c",
   "metadata": {},
   "outputs": [
    {
     "name": "stdout",
     "output_type": "stream",
     "text": [
      "Vocabulary: ['boy' 'girl' 'good']\n",
      "Bag of Words Matrix:\n",
      " [[1 0 1]\n",
      " [0 1 1]\n",
      " [1 1 1]]\n"
     ]
    }
   ],
   "source": [
    "from sklearn.feature_extraction.text import CountVectorizer\n",
    "\n",
    "corpus = [\n",
    "    \"He is a good boy\",\n",
    "    \"She is a good girl\",\n",
    "    \"Boy and girl are good\"\n",
    "]\n",
    "\n",
    "vectorizer = CountVectorizer(stop_words='english')\n",
    "X = vectorizer.fit_transform(corpus)\n",
    "\n",
    "print(\"Vocabulary:\", vectorizer.get_feature_names_out())\n",
    "print(\"Bag of Words Matrix:\\n\", X.toarray())\n"
   ]
  },
  {
   "cell_type": "code",
   "execution_count": null,
   "id": "cf5ac4d5",
   "metadata": {},
   "outputs": [],
   "source": []
  }
 ],
 "metadata": {
  "kernelspec": {
   "display_name": "venv",
   "language": "python",
   "name": "python3"
  },
  "language_info": {
   "codemirror_mode": {
    "name": "ipython",
    "version": 3
   },
   "file_extension": ".py",
   "mimetype": "text/x-python",
   "name": "python",
   "nbconvert_exporter": "python",
   "pygments_lexer": "ipython3",
   "version": "3.13.5"
  }
 },
 "nbformat": 4,
 "nbformat_minor": 5
}
