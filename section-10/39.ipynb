{
 "cells": [
  {
   "cell_type": "code",
   "execution_count": 1,
   "id": "09110f31",
   "metadata": {},
   "outputs": [],
   "source": [
    "### Text Preprocessing: Stemming Using NLTK"
   ]
  },
  {
   "cell_type": "code",
   "execution_count": 2,
   "id": "cbe80979",
   "metadata": {},
   "outputs": [
    {
     "name": "stdout",
     "output_type": "stream",
     "text": [
      "eating -> eat)\n",
      "eats -> eat)\n",
      "eaten -> eaten)\n",
      "writing -> write)\n",
      "writes -> write)\n",
      "programming -> program)\n",
      "programs -> program)\n",
      "history -> histori)\n",
      "finally -> final)\n",
      "finalized -> final)\n"
     ]
    }
   ],
   "source": [
    "from nltk.stem import PorterStemmer\n",
    "\n",
    "porter = PorterStemmer()\n",
    "\n",
    "words = [\"eating\", \"eats\", \"eaten\", \"writing\", \"writes\", \"programming\", \"programs\", \"history\", \"finally\", \"finalized\"]\n",
    "\n",
    "for word in words:\n",
    "    print(f\"{word} -> {porter.stem(word)})\")"
   ]
  },
  {
   "cell_type": "code",
   "execution_count": 3,
   "id": "f980b2fd",
   "metadata": {},
   "outputs": [
    {
     "name": "stdout",
     "output_type": "stream",
     "text": [
      "congratul\n",
      "sit\n"
     ]
    }
   ],
   "source": [
    "### Additional Examples Highlighting Stemming Disadvantages\n",
    "print(porter.stem(\"congratulations\"))\n",
    "print(porter.stem(\"sitting\"))"
   ]
  },
  {
   "cell_type": "code",
   "execution_count": 4,
   "id": "2c4bcf39",
   "metadata": {},
   "outputs": [
    {
     "name": "stdout",
     "output_type": "stream",
     "text": [
      "eating -> eat\n",
      "writes -> write\n",
      "disable -> dis\n",
      "finalize -> finaliz\n"
     ]
    }
   ],
   "source": [
    "### Regex Stemmer: A Customizable Stemming Approach\n",
    "from nltk.stem import RegexpStemmer\n",
    "\n",
    "# Initialize RegexpStemmer with a regex pattern to remove common suffixes\n",
    "regexp_stemmer = RegexpStemmer('(ing|s|e|able)$')\n",
    "\n",
    "words = [\"eating\", \"writes\", \"disable\", \"finalize\"]\n",
    "\n",
    "for word in words:\n",
    "    print(f\"{word} -> {regexp_stemmer.stem(word)}\")"
   ]
  },
  {
   "cell_type": "code",
   "execution_count": 5,
   "id": "6f13b14e",
   "metadata": {},
   "outputs": [
    {
     "name": "stdout",
     "output_type": "stream",
     "text": [
      "fairly -> fair\n",
      "sportingly -> sport\n",
      "eating -> eat\n",
      "eats -> eat\n",
      "eaten -> eaten\n",
      "writing -> write\n",
      "writes -> write\n",
      "programming -> program\n",
      "programs -> program\n",
      "history -> histori\n",
      "finally -> final\n",
      "finalized -> final\n"
     ]
    }
   ],
   "source": [
    "### Snowball Stemmer: An Improved Stemming Technique\n",
    "from nltk.stem import SnowballStemmer\n",
    "\n",
    "snowball = SnowballStemmer(\"english\")\n",
    "\n",
    "words = [\"fairly\",\"sportingly\",\"eating\", \"eats\", \"eaten\", \"writing\", \"writes\", \"programming\", \"programs\", \"history\", \"finally\", \"finalized\"]\n",
    "\n",
    "for word in words:\n",
    "    print(f\"{word} -> {snowball.stem(word)}\")"
   ]
  },
  {
   "cell_type": "code",
   "execution_count": 6,
   "id": "1e710fed",
   "metadata": {},
   "outputs": [
    {
     "name": "stdout",
     "output_type": "stream",
     "text": [
      "fairli\n",
      "sportingli\n",
      "fair\n",
      "sport\n"
     ]
    }
   ],
   "source": [
    "### Snowball Stemmer provides more meaningful stems, improving accuracy in text preprocessing.\n",
    "\n",
    "print(porter.stem(\"fairly\"))\n",
    "print(porter.stem(\"sportingly\"))\n",
    "print(snowball.stem(\"fairly\"))\n",
    "print(snowball.stem(\"sportingly\"))"
   ]
  },
  {
   "cell_type": "code",
   "execution_count": 7,
   "id": "ee2e48c5",
   "metadata": {},
   "outputs": [
    {
     "name": "stdout",
     "output_type": "stream",
     "text": [
      "goe\n",
      "goe\n"
     ]
    }
   ],
   "source": [
    "### Limitations of Stemming\n",
    "print(snowball.stem(\"goes\"))\n",
    "print(porter.stem(\"goes\"))"
   ]
  },
  {
   "cell_type": "code",
   "execution_count": 8,
   "id": "106c1e78",
   "metadata": {},
   "outputs": [
    {
     "data": {
      "text/plain": [
       "'When to Use Lemmatization To overcome stemming\\'s disadvantages, \\nlemmatization is used. Lemmatization uses a dictionary of root words and returns grammatically correct base forms. \\nFor example, \"goes\" becomes \"go\", and \"fairly\" becomes \"fair\". \\nLemmatization is preferred in applications requiring accurate word forms.'"
      ]
     },
     "execution_count": 8,
     "metadata": {},
     "output_type": "execute_result"
    }
   ],
   "source": [
    "'''When to Use Lemmatization To overcome stemming's disadvantages, \n",
    "lemmatization is used. Lemmatization uses a dictionary of root words and returns grammatically correct base forms. \n",
    "For example, \"goes\" becomes \"go\", and \"fairly\" becomes \"fair\". \n",
    "Lemmatization is preferred in applications requiring accurate word forms.'''"
   ]
  },
  {
   "cell_type": "code",
   "execution_count": null,
   "id": "2a966ffc",
   "metadata": {},
   "outputs": [],
   "source": []
  }
 ],
 "metadata": {
  "kernelspec": {
   "display_name": "venv",
   "language": "python",
   "name": "python3"
  },
  "language_info": {
   "codemirror_mode": {
    "name": "ipython",
    "version": 3
   },
   "file_extension": ".py",
   "mimetype": "text/x-python",
   "name": "python",
   "nbconvert_exporter": "python",
   "pygments_lexer": "ipython3",
   "version": "3.13.5"
  }
 },
 "nbformat": 4,
 "nbformat_minor": 5
}
