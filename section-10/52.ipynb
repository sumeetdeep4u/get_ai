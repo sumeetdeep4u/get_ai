{
 "cells": [
  {
   "cell_type": "markdown",
   "id": "377c2da1",
   "metadata": {},
   "source": [
    "### TF-IDF Intuition"
   ]
  },
  {
   "cell_type": "code",
   "execution_count": 1,
   "id": "3b8b31ce",
   "metadata": {},
   "outputs": [
    {
     "name": "stdout",
     "output_type": "stream",
     "text": [
      "['about' 'ai' 'and' 'are' 'future' 'is' 'learning' 'machine' 'our' 'the'\n",
      " 'we']\n",
      "[[0.         0.34520502 0.         0.         0.44451431 0.5844829\n",
      "  0.         0.         0.5844829  0.         0.        ]\n",
      " [0.         0.26193976 0.44350256 0.33729513 0.33729513 0.\n",
      "  0.33729513 0.44350256 0.         0.44350256 0.        ]\n",
      " [0.53409337 0.31544415 0.         0.40619178 0.         0.\n",
      "  0.40619178 0.         0.         0.         0.53409337]]\n"
     ]
    }
   ],
   "source": [
    "from sklearn.feature_extraction.text import TfidfVectorizer\n",
    "\n",
    "docs = [\n",
    "    \"AI is our future\",\n",
    "    \"AI and machine learning are the future\",\n",
    "    \"We are learning about AI\"\n",
    "]\n",
    "\n",
    "vectorizer = TfidfVectorizer()\n",
    "X = vectorizer.fit_transform(docs)\n",
    "\n",
    "print(vectorizer.get_feature_names_out())\n",
    "print(X.toarray())\n"
   ]
  }
 ],
 "metadata": {
  "kernelspec": {
   "display_name": "venv",
   "language": "python",
   "name": "python3"
  },
  "language_info": {
   "codemirror_mode": {
    "name": "ipython",
    "version": 3
   },
   "file_extension": ".py",
   "mimetype": "text/x-python",
   "name": "python",
   "nbconvert_exporter": "python",
   "pygments_lexer": "ipython3",
   "version": "3.13.5"
  }
 },
 "nbformat": 4,
 "nbformat_minor": 5
}
